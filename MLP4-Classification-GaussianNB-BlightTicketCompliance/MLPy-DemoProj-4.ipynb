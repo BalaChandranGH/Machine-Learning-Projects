{
 "cells": [
  {
   "cell_type": "markdown",
   "metadata": {},
   "source": [
    "# Table of Contents\n",
    "```\n",
    "1. Business Understanding\n",
    "   1.1. Problem Description\n",
    "2. Data Understanding\n",
    "   2.1. Import Libraries, Modules, Functions, Objects, etc.\n",
    "   2.2. User Defined Functions (UDFs)\n",
    "   2.3. Data Loading\n",
    "   2.4. Exploratory Data Analysis (EDA)\n",
    "        2.4.1. Text EDA: Understand the raw data with Descriptive Statistics\n",
    "        2.4.2. Visual EDA: Understand the data with Visualizations\n",
    "               2.4.2.1. Draw Multivariate plots to better understand the relationship between attributes\n",
    "3. Research\n",
    "   3.1. List of selected algorithms to build models\n",
    "   3.2. List of model evaluation metrics\n",
    "4. Data Preprocessing\n",
    "   4.1. Data Cleaning\n",
    "        4.1.1. Basic data cleaning\n",
    "   4.2. Feature Selection\n",
    "   4.3. Feature Engineering\n",
    "   4.4. Dimensionality Reduction\n",
    "   4.5. Split datasets for train-test\n",
    "        4.5.1. Create Independent(X) and Dependent(y) variables\n",
    "        4.5.2. Split the dataset into train and test\n",
    "   4.6. Handling Imbalanced classes\n",
    "5. Model Development\n",
    "   5.1. Model definitions\n",
    "6. Model Training\n",
    "7. Model Refinement\n",
    "8. Model Evaluation\n",
    "9. Final Model Selection\n",
    "10. Model Validation\n",
    "11. Model Deployment\n",
    "```"
   ]
  },
  {
   "cell_type": "markdown",
   "metadata": {},
   "source": [
    "# 1. Business Understanding"
   ]
  },
  {
   "cell_type": "markdown",
   "metadata": {},
   "source": [
    "## 1.1. Problem Description"
   ]
  },
  {
   "cell_type": "markdown",
   "metadata": {},
   "source": [
    "**`Problem statement`**:\n",
    "\n",
    "`In business terms`: \n",
    "\n",
    "Blight violations are issued by the city to individuals who allow their properties to remain in a deteriorated condition. Every year, the city of Detroit issues millions of dollars in fines to residents and every year, many of these fines remain unpaid. Enforcing unpaid blight fines is a costly and tedious process, so the city wants to know: *`how can we increase blight ticket compliance?`*\n",
    "\n",
    "The dataset has been downloaded from `City of Detroit Open Data Portal` and split into 2 input data files for use in training and validating your models: *`CoD_blight_violations_train.csv`* and *`CoD_blight_violations_test.csv`*. Each row in these two files corresponds to a single blight ticket, and includes information about when, why, and to whom each ticket was issued. The target variable is `compliance`, which is `True` if the ticket was paid early, on time, or within one month of the hearing data, `False` if the ticket was paid after the hearing date or not at all, and `Null` if the violator was found not responsible. Compliance, as well as a handful of other variables that will not be available at test-time, are only included in *`CoD_blight_violations_train.csv`*.\n",
    "\n",
    "`Note`: All tickets where the violators were found not responsible are not considered during evaluation. They are included in the training set as an additional source of data for visualization, and to enable unsupervised and semi-supervised approaches. However, they are not included in the test set.\n",
    "\n",
    "**File descriptions** (Use only this data for training your model!)\n",
    "\n",
    "    train.csv - The training set (all tickets issued 2004-2011)\n",
    "    test.csv  - The test set (all tickets issued 2012-2016)\n",
    "\n",
    "**Data fields**\n",
    "\n",
    "train.csv & test.csv\n",
    "\n",
    "    ticket_id                   - unique identifier for tickets\n",
    "    agency_name                 - Agency that issued the ticket\n",
    "    inspector_name              - Name of inspector that issued the ticket\n",
    "    violator_name               - Name of the person/organization that the ticket was issued to\n",
    "    violation_street_number, \n",
    "    violation_street_name, \n",
    "    violation_zip_code          - Address where the violation occurred (3 attributes)\n",
    "    mailing_address_str_number, \n",
    "    mailing_address_str_name, \n",
    "    city, \n",
    "    state, \n",
    "    zip_code, \n",
    "    non_us_str_code, \n",
    "    country                     - Mailing address of the violator (7 attributes)\n",
    "    ticket_issued_date          - Date and time the ticket was issued\n",
    "    hearing_date                - Date and time the violator's hearing was scheduled\n",
    "    violation_code, \n",
    "    violation_description       - Type of violation (2 attributes)\n",
    "    disposition                 - Judgment and judgement type\n",
    "    fine_amount                 - Violation fine amount, excluding fees\n",
    "    admin_fee                   - 20 dollar fee assigned to responsible judgments\n",
    "    state_fee                   - 10 dollar fee assigned to responsible judgments\n",
    "    late_fee                    - 10% fee assigned to responsible judgments\n",
    "    discount_amount             - discount applied, if any\n",
    "    clean_up_cost               - DPW clean-up or graffiti removal cost\n",
    "    judgment_amount             - Sum of all fines and fees\n",
    "    grafitti_status             - Flag for graffiti violations\n",
    "\n",
    "train.csv only\n",
    "\n",
    "    payment_amount              - Amount paid, if any\n",
    "    payment_date                - Date payment was made, if it was received\n",
    "    payment_status              - Current payment status as of Feb 1 2017\n",
    "    balance_due                 - Fines and fees still owed\n",
    "    collection_status           - Flag for payments in collections\n",
    "    compliance [target variable for prediction] \n",
    "                                  Null = Not responsible\n",
    "                                  0    = Responsible, non-compliant\n",
    "                                  1    = Responsible, compliant\n",
    "    compliance_detail           - More information on why each ticket was marked compliant or non-compliant\n",
    "\n",
    "`In analytical terms`: \n",
    "* The first step in answering this question is understanding when and why a resident might fail to comply with a blight ticket. \n",
    "* Build a predictive model to predict whether a given blight ticket will be paid on time or not: Develop and train a model to predict blight ticket compliance in Detroit using `CoD_blight_violations_train.csv`. Using this model, return a series of length 61001 with the data being the probability that each corresponding ticket from `CoD_blight_violations_test.csv` will be paid, and the index being the ticket_id.\n",
    "* Generate your predictions as the probability that the corresponding blight ticket will be paid on time.\n",
    "\n",
    "**`Type of the problem`**: Supervised Learning - Classification - Probability\n",
    "\n",
    "**`Data source(s)`**: [City of Detroit Open Data Portal-Blight Violations](https://data.detroitmi.gov/datasets/blight-violations) and [Coursera](https://www.coursera.org/)\n",
    "    \n",
    "**`Author(s)`**: Balasubramanian Chandran"
   ]
  },
  {
   "cell_type": "markdown",
   "metadata": {},
   "source": [
    "# 2. Data Understanding"
   ]
  },
  {
   "cell_type": "markdown",
   "metadata": {},
   "source": [
    "## 2.1. Import Libraries, Modules, Functions, Objects, etc."
   ]
  },
  {
   "cell_type": "code",
   "execution_count": 1,
   "metadata": {},
   "outputs": [
    {
     "name": "stdout",
     "output_type": "stream",
     "text": [
      "Versions of imported libraries:\n",
      "Python:     3.8.8 (default, Feb 24 2021, 15:54:32) [MSC v.1928 64 bit (AMD64)]\n",
      "Numpy:      1.19.5\n",
      "Pandas:     1.3.2\n",
      "Seaborn:    0.11.2\n",
      "Matplotlib: 3.4.2\n",
      "Automatically created module for IPython interactive environment\n"
     ]
    }
   ],
   "source": [
    "# Import necessary libraries for this project\n",
    "import sys         as sys\n",
    "import numpy       as np\n",
    "import pandas      as pd\n",
    "import seaborn     as sns\n",
    "import matplotlib  as mpl\n",
    "import pickle      as pickle\n",
    "import warnings\n",
    "\n",
    "# Import necessary Modules, Functions and Objects from the Libraries\n",
    "from pandas                        import read_csv\n",
    "from imblearn.over_sampling        import SMOTE\n",
    "from sklearn.metrics               import roc_auc_score\n",
    "from sklearn.model_selection       import train_test_split\n",
    "from matplotlib                    import pyplot as plt\n",
    "from sklearn.linear_model          import LogisticRegression\n",
    "from sklearn.neighbors             import KNeighborsClassifier\n",
    "from sklearn.naive_bayes           import GaussianNB\n",
    "from sklearn.neural_network        import MLPClassifier\n",
    "from sklearn.tree                  import DecisionTreeClassifier\n",
    "from sklearn.ensemble              import RandomForestClassifier, GradientBoostingClassifier\n",
    "from xgboost                       import XGBClassifier\n",
    "\n",
    "# Check the versions of the imported libraries\n",
    "print(\"Versions of imported libraries:\")\n",
    "print(\"Python:     {}\".format(sys.version))\n",
    "print(\"Numpy:      {}\".format(np.__version__))\n",
    "print(\"Pandas:     {}\".format(pd.__version__))\n",
    "print(\"Seaborn:    {}\".format(sns.__version__))\n",
    "print(\"Matplotlib: {}\".format(mpl.__version__))\n",
    "\n",
    "# Optional settings\n",
    "mpl.style.use('ggplot')\n",
    "sns.set(style='whitegrid')\n",
    "pd.set_option('display.max_columns', None, 'precision', 3)\n",
    "warnings.filterwarnings('ignore')\n",
    "\n",
    "print(__doc__)"
   ]
  },
  {
   "cell_type": "markdown",
   "metadata": {},
   "source": [
    "## 2.2. User Defined Functions (UDFs)"
   ]
  },
  {
   "cell_type": "code",
   "execution_count": 2,
   "metadata": {},
   "outputs": [],
   "source": [
    "def plot_histogram(feature, dfname, binwidth, binrange):\n",
    "    fig = plt.figure(figsize=(12, 6))\n",
    "    ax = sns.histplot(data=feature, binwidth=binwidth, binrange=binrange, stat='count')\n",
    "    title = 'Distribution of Judgment Amount in '+ dfname +' dataset'\n",
    "    ax.set_title(title, size='large', color='brown', alpha=0.8)\n",
    "    ax.set_xlabel('Judgment Amount', fontsize='large', color='brown', alpha=0.6)\n",
    "    ax.set_ylabel('No. of Tickets', fontsize='large', color='brown', alpha=0.6)\n",
    "    \n",
    "def plot_performance_metrics(scores_list, scores_names, colors, modelnames):\n",
    "    fig, axes = plt.subplots(1, len(scores_names), figsize=(12, 5))\n",
    "    for i in range(len(scores_names)):\n",
    "        axes[i].bar(modelnames, scores_list[i], color=colors[i])\n",
    "        axes[i].set_title(scores_names[i], fontsize=15, alpha=0.6, pad=20)\n",
    "    j = 0\n",
    "    for scores in scores_list:\n",
    "        xpos = 0\n",
    "        for i in scores:\n",
    "            text = str(i*100)[:5]\n",
    "            axes[j].text(x=xpos, y=i, s=text, ha='center', va='bottom')\n",
    "            for spine in axes[j].spines:\n",
    "                axes[j].spines[spine].set_visible(False)\n",
    "                axes[j].spines['left'].set_visible(True)\n",
    "                axes[j].spines['left'].set_alpha(0.4)\n",
    "                axes[j].spines['bottom'].set_visible(True)\n",
    "                axes[j].spines['bottom'].set_alpha(0.4)\n",
    "            xpos += 1\n",
    "        j += 1\n",
    "    plt.show()"
   ]
  },
  {
   "cell_type": "markdown",
   "metadata": {},
   "source": [
    "## 2.3. Data Loading"
   ]
  },
  {
   "cell_type": "code",
   "execution_count": 3,
   "metadata": {},
   "outputs": [],
   "source": [
    "## Load the necessary data files for this project ##\n",
    "train_df = read_csv('data/CoD_blight_violations_train.csv', encoding='ISO-8859-1')\n",
    "test_df  = read_csv('data/CoD_blight_violations_test.csv', encoding='ISO-8859-1')"
   ]
  },
  {
   "cell_type": "markdown",
   "metadata": {},
   "source": [
    "## 2.4. Exploratory Data Analysis (EDA)"
   ]
  },
  {
   "cell_type": "markdown",
   "metadata": {},
   "source": [
    "### 2.4.1. `Text EDA`: Understand the raw data with Descriptive Statistics"
   ]
  },
  {
   "cell_type": "markdown",
   "metadata": {},
   "source": [
    "#### Dimensions of the datasets:"
   ]
  },
  {
   "cell_type": "code",
   "execution_count": 4,
   "metadata": {},
   "outputs": [
    {
     "name": "stdout",
     "output_type": "stream",
     "text": [
      "Dimension of the TRAIN dataset:  (250306, 34)\n",
      "Dimension of the TEST dataset:   (61001, 27)\n"
     ]
    }
   ],
   "source": [
    "print('Dimension of the TRAIN dataset: ', train_df.shape)\n",
    "print('Dimension of the TEST dataset:  ', test_df.shape)"
   ]
  },
  {
   "cell_type": "markdown",
   "metadata": {},
   "source": [
    "#### Initial look at the raw data in `train dataset` - First & Last 10 rows:"
   ]
  },
  {
   "cell_type": "code",
   "execution_count": 5,
   "metadata": {},
   "outputs": [
    {
     "data": {
      "text/html": [
       "<style type=\"text/css\">\n",
       "#T_3c260_row0_col6, #T_3c260_row0_col12, #T_3c260_row0_col28, #T_3c260_row0_col30, #T_3c260_row0_col31, #T_3c260_row1_col6, #T_3c260_row1_col12, #T_3c260_row1_col30, #T_3c260_row1_col31, #T_3c260_row2_col6, #T_3c260_row2_col12, #T_3c260_row2_col28, #T_3c260_row2_col30, #T_3c260_row2_col31, #T_3c260_row2_col33, #T_3c260_row3_col6, #T_3c260_row3_col12, #T_3c260_row3_col15, #T_3c260_row3_col28, #T_3c260_row3_col30, #T_3c260_row3_col31, #T_3c260_row3_col33, #T_3c260_row4_col6, #T_3c260_row4_col12, #T_3c260_row4_col28, #T_3c260_row4_col30, #T_3c260_row4_col31, #T_3c260_row4_col33 {\n",
       "  background-color: brown;\n",
       "}\n",
       "</style>\n",
       "<table id=\"T_3c260_\">\n",
       "  <thead>\n",
       "    <tr>\n",
       "      <th class=\"col_heading level0 col0\" >ticket_id</th>\n",
       "      <th class=\"col_heading level0 col1\" >agency_name</th>\n",
       "      <th class=\"col_heading level0 col2\" >inspector_name</th>\n",
       "      <th class=\"col_heading level0 col3\" >violator_name</th>\n",
       "      <th class=\"col_heading level0 col4\" >violation_street_number</th>\n",
       "      <th class=\"col_heading level0 col5\" >violation_street_name</th>\n",
       "      <th class=\"col_heading level0 col6\" >violation_zip_code</th>\n",
       "      <th class=\"col_heading level0 col7\" >mailing_address_str_number</th>\n",
       "      <th class=\"col_heading level0 col8\" >mailing_address_str_name</th>\n",
       "      <th class=\"col_heading level0 col9\" >city</th>\n",
       "      <th class=\"col_heading level0 col10\" >state</th>\n",
       "      <th class=\"col_heading level0 col11\" >zip_code</th>\n",
       "      <th class=\"col_heading level0 col12\" >non_us_str_code</th>\n",
       "      <th class=\"col_heading level0 col13\" >country</th>\n",
       "      <th class=\"col_heading level0 col14\" >ticket_issued_date</th>\n",
       "      <th class=\"col_heading level0 col15\" >hearing_date</th>\n",
       "      <th class=\"col_heading level0 col16\" >violation_code</th>\n",
       "      <th class=\"col_heading level0 col17\" >violation_description</th>\n",
       "      <th class=\"col_heading level0 col18\" >disposition</th>\n",
       "      <th class=\"col_heading level0 col19\" >fine_amount</th>\n",
       "      <th class=\"col_heading level0 col20\" >admin_fee</th>\n",
       "      <th class=\"col_heading level0 col21\" >state_fee</th>\n",
       "      <th class=\"col_heading level0 col22\" >late_fee</th>\n",
       "      <th class=\"col_heading level0 col23\" >discount_amount</th>\n",
       "      <th class=\"col_heading level0 col24\" >clean_up_cost</th>\n",
       "      <th class=\"col_heading level0 col25\" >judgment_amount</th>\n",
       "      <th class=\"col_heading level0 col26\" >payment_amount</th>\n",
       "      <th class=\"col_heading level0 col27\" >balance_due</th>\n",
       "      <th class=\"col_heading level0 col28\" >payment_date</th>\n",
       "      <th class=\"col_heading level0 col29\" >payment_status</th>\n",
       "      <th class=\"col_heading level0 col30\" >collection_status</th>\n",
       "      <th class=\"col_heading level0 col31\" >grafitti_status</th>\n",
       "      <th class=\"col_heading level0 col32\" >compliance_detail</th>\n",
       "      <th class=\"col_heading level0 col33\" >compliance</th>\n",
       "    </tr>\n",
       "  </thead>\n",
       "  <tbody>\n",
       "    <tr>\n",
       "      <td id=\"T_3c260_row0_col0\" class=\"data row0 col0\" >22056</td>\n",
       "      <td id=\"T_3c260_row0_col1\" class=\"data row0 col1\" >Buildings, Safety Engineering & Env Department</td>\n",
       "      <td id=\"T_3c260_row0_col2\" class=\"data row0 col2\" >Sims, Martinzie</td>\n",
       "      <td id=\"T_3c260_row0_col3\" class=\"data row0 col3\" >INVESTMENT INC., MIDWEST MORTGAGE</td>\n",
       "      <td id=\"T_3c260_row0_col4\" class=\"data row0 col4\" >2900.000</td>\n",
       "      <td id=\"T_3c260_row0_col5\" class=\"data row0 col5\" >TYLER</td>\n",
       "      <td id=\"T_3c260_row0_col6\" class=\"data row0 col6\" >nan</td>\n",
       "      <td id=\"T_3c260_row0_col7\" class=\"data row0 col7\" >3.000</td>\n",
       "      <td id=\"T_3c260_row0_col8\" class=\"data row0 col8\" >S. WICKER</td>\n",
       "      <td id=\"T_3c260_row0_col9\" class=\"data row0 col9\" >CHICAGO</td>\n",
       "      <td id=\"T_3c260_row0_col10\" class=\"data row0 col10\" >IL</td>\n",
       "      <td id=\"T_3c260_row0_col11\" class=\"data row0 col11\" >60606</td>\n",
       "      <td id=\"T_3c260_row0_col12\" class=\"data row0 col12\" >nan</td>\n",
       "      <td id=\"T_3c260_row0_col13\" class=\"data row0 col13\" >USA</td>\n",
       "      <td id=\"T_3c260_row0_col14\" class=\"data row0 col14\" >2004-03-16 11:40:00</td>\n",
       "      <td id=\"T_3c260_row0_col15\" class=\"data row0 col15\" >2005-03-21 10:30:00</td>\n",
       "      <td id=\"T_3c260_row0_col16\" class=\"data row0 col16\" >9-1-36(a)</td>\n",
       "      <td id=\"T_3c260_row0_col17\" class=\"data row0 col17\" >Failure of owner to obtain certificate of compliance</td>\n",
       "      <td id=\"T_3c260_row0_col18\" class=\"data row0 col18\" >Responsible by Default</td>\n",
       "      <td id=\"T_3c260_row0_col19\" class=\"data row0 col19\" >250.000</td>\n",
       "      <td id=\"T_3c260_row0_col20\" class=\"data row0 col20\" >20.000</td>\n",
       "      <td id=\"T_3c260_row0_col21\" class=\"data row0 col21\" >10.000</td>\n",
       "      <td id=\"T_3c260_row0_col22\" class=\"data row0 col22\" >25.000</td>\n",
       "      <td id=\"T_3c260_row0_col23\" class=\"data row0 col23\" >0.000</td>\n",
       "      <td id=\"T_3c260_row0_col24\" class=\"data row0 col24\" >0.000</td>\n",
       "      <td id=\"T_3c260_row0_col25\" class=\"data row0 col25\" >305.000</td>\n",
       "      <td id=\"T_3c260_row0_col26\" class=\"data row0 col26\" >0.000</td>\n",
       "      <td id=\"T_3c260_row0_col27\" class=\"data row0 col27\" >305.000</td>\n",
       "      <td id=\"T_3c260_row0_col28\" class=\"data row0 col28\" >nan</td>\n",
       "      <td id=\"T_3c260_row0_col29\" class=\"data row0 col29\" >NO PAYMENT APPLIED</td>\n",
       "      <td id=\"T_3c260_row0_col30\" class=\"data row0 col30\" >nan</td>\n",
       "      <td id=\"T_3c260_row0_col31\" class=\"data row0 col31\" >nan</td>\n",
       "      <td id=\"T_3c260_row0_col32\" class=\"data row0 col32\" >non-compliant by no payment</td>\n",
       "      <td id=\"T_3c260_row0_col33\" class=\"data row0 col33\" >0.000</td>\n",
       "    </tr>\n",
       "    <tr>\n",
       "      <td id=\"T_3c260_row1_col0\" class=\"data row1 col0\" >27586</td>\n",
       "      <td id=\"T_3c260_row1_col1\" class=\"data row1 col1\" >Buildings, Safety Engineering & Env Department</td>\n",
       "      <td id=\"T_3c260_row1_col2\" class=\"data row1 col2\" >Williams, Darrin</td>\n",
       "      <td id=\"T_3c260_row1_col3\" class=\"data row1 col3\" >Michigan, Covenant House</td>\n",
       "      <td id=\"T_3c260_row1_col4\" class=\"data row1 col4\" >4311.000</td>\n",
       "      <td id=\"T_3c260_row1_col5\" class=\"data row1 col5\" >CENTRAL</td>\n",
       "      <td id=\"T_3c260_row1_col6\" class=\"data row1 col6\" >nan</td>\n",
       "      <td id=\"T_3c260_row1_col7\" class=\"data row1 col7\" >2959.000</td>\n",
       "      <td id=\"T_3c260_row1_col8\" class=\"data row1 col8\" >Martin Luther King</td>\n",
       "      <td id=\"T_3c260_row1_col9\" class=\"data row1 col9\" >Detroit</td>\n",
       "      <td id=\"T_3c260_row1_col10\" class=\"data row1 col10\" >MI</td>\n",
       "      <td id=\"T_3c260_row1_col11\" class=\"data row1 col11\" >48208</td>\n",
       "      <td id=\"T_3c260_row1_col12\" class=\"data row1 col12\" >nan</td>\n",
       "      <td id=\"T_3c260_row1_col13\" class=\"data row1 col13\" >USA</td>\n",
       "      <td id=\"T_3c260_row1_col14\" class=\"data row1 col14\" >2004-04-23 12:30:00</td>\n",
       "      <td id=\"T_3c260_row1_col15\" class=\"data row1 col15\" >2005-05-06 13:30:00</td>\n",
       "      <td id=\"T_3c260_row1_col16\" class=\"data row1 col16\" >61-63.0600</td>\n",
       "      <td id=\"T_3c260_row1_col17\" class=\"data row1 col17\" >Failed To Secure Permit For Lawful Use Of Building</td>\n",
       "      <td id=\"T_3c260_row1_col18\" class=\"data row1 col18\" >Responsible by Determination</td>\n",
       "      <td id=\"T_3c260_row1_col19\" class=\"data row1 col19\" >750.000</td>\n",
       "      <td id=\"T_3c260_row1_col20\" class=\"data row1 col20\" >20.000</td>\n",
       "      <td id=\"T_3c260_row1_col21\" class=\"data row1 col21\" >10.000</td>\n",
       "      <td id=\"T_3c260_row1_col22\" class=\"data row1 col22\" >75.000</td>\n",
       "      <td id=\"T_3c260_row1_col23\" class=\"data row1 col23\" >0.000</td>\n",
       "      <td id=\"T_3c260_row1_col24\" class=\"data row1 col24\" >0.000</td>\n",
       "      <td id=\"T_3c260_row1_col25\" class=\"data row1 col25\" >855.000</td>\n",
       "      <td id=\"T_3c260_row1_col26\" class=\"data row1 col26\" >780.000</td>\n",
       "      <td id=\"T_3c260_row1_col27\" class=\"data row1 col27\" >75.000</td>\n",
       "      <td id=\"T_3c260_row1_col28\" class=\"data row1 col28\" >2005-06-02 00:00:00</td>\n",
       "      <td id=\"T_3c260_row1_col29\" class=\"data row1 col29\" >PAID IN FULL</td>\n",
       "      <td id=\"T_3c260_row1_col30\" class=\"data row1 col30\" >nan</td>\n",
       "      <td id=\"T_3c260_row1_col31\" class=\"data row1 col31\" >nan</td>\n",
       "      <td id=\"T_3c260_row1_col32\" class=\"data row1 col32\" >compliant by late payment within 1 month</td>\n",
       "      <td id=\"T_3c260_row1_col33\" class=\"data row1 col33\" >1.000</td>\n",
       "    </tr>\n",
       "    <tr>\n",
       "      <td id=\"T_3c260_row2_col0\" class=\"data row2 col0\" >22062</td>\n",
       "      <td id=\"T_3c260_row2_col1\" class=\"data row2 col1\" >Buildings, Safety Engineering & Env Department</td>\n",
       "      <td id=\"T_3c260_row2_col2\" class=\"data row2 col2\" >Sims, Martinzie</td>\n",
       "      <td id=\"T_3c260_row2_col3\" class=\"data row2 col3\" >SANDERS, DERRON</td>\n",
       "      <td id=\"T_3c260_row2_col4\" class=\"data row2 col4\" >1449.000</td>\n",
       "      <td id=\"T_3c260_row2_col5\" class=\"data row2 col5\" >LONGFELLOW</td>\n",
       "      <td id=\"T_3c260_row2_col6\" class=\"data row2 col6\" >nan</td>\n",
       "      <td id=\"T_3c260_row2_col7\" class=\"data row2 col7\" >23658.000</td>\n",
       "      <td id=\"T_3c260_row2_col8\" class=\"data row2 col8\" >P.O. BOX</td>\n",
       "      <td id=\"T_3c260_row2_col9\" class=\"data row2 col9\" >DETROIT</td>\n",
       "      <td id=\"T_3c260_row2_col10\" class=\"data row2 col10\" >MI</td>\n",
       "      <td id=\"T_3c260_row2_col11\" class=\"data row2 col11\" >48223</td>\n",
       "      <td id=\"T_3c260_row2_col12\" class=\"data row2 col12\" >nan</td>\n",
       "      <td id=\"T_3c260_row2_col13\" class=\"data row2 col13\" >USA</td>\n",
       "      <td id=\"T_3c260_row2_col14\" class=\"data row2 col14\" >2004-04-26 13:40:00</td>\n",
       "      <td id=\"T_3c260_row2_col15\" class=\"data row2 col15\" >2005-03-29 10:30:00</td>\n",
       "      <td id=\"T_3c260_row2_col16\" class=\"data row2 col16\" >9-1-36(a)</td>\n",
       "      <td id=\"T_3c260_row2_col17\" class=\"data row2 col17\" >Failure of owner to obtain certificate of compliance</td>\n",
       "      <td id=\"T_3c260_row2_col18\" class=\"data row2 col18\" >Not responsible by Dismissal</td>\n",
       "      <td id=\"T_3c260_row2_col19\" class=\"data row2 col19\" >250.000</td>\n",
       "      <td id=\"T_3c260_row2_col20\" class=\"data row2 col20\" >0.000</td>\n",
       "      <td id=\"T_3c260_row2_col21\" class=\"data row2 col21\" >0.000</td>\n",
       "      <td id=\"T_3c260_row2_col22\" class=\"data row2 col22\" >0.000</td>\n",
       "      <td id=\"T_3c260_row2_col23\" class=\"data row2 col23\" >0.000</td>\n",
       "      <td id=\"T_3c260_row2_col24\" class=\"data row2 col24\" >0.000</td>\n",
       "      <td id=\"T_3c260_row2_col25\" class=\"data row2 col25\" >0.000</td>\n",
       "      <td id=\"T_3c260_row2_col26\" class=\"data row2 col26\" >0.000</td>\n",
       "      <td id=\"T_3c260_row2_col27\" class=\"data row2 col27\" >0.000</td>\n",
       "      <td id=\"T_3c260_row2_col28\" class=\"data row2 col28\" >nan</td>\n",
       "      <td id=\"T_3c260_row2_col29\" class=\"data row2 col29\" >NO PAYMENT APPLIED</td>\n",
       "      <td id=\"T_3c260_row2_col30\" class=\"data row2 col30\" >nan</td>\n",
       "      <td id=\"T_3c260_row2_col31\" class=\"data row2 col31\" >nan</td>\n",
       "      <td id=\"T_3c260_row2_col32\" class=\"data row2 col32\" >not responsible by disposition</td>\n",
       "      <td id=\"T_3c260_row2_col33\" class=\"data row2 col33\" >nan</td>\n",
       "    </tr>\n",
       "    <tr>\n",
       "      <td id=\"T_3c260_row3_col0\" class=\"data row3 col0\" >22084</td>\n",
       "      <td id=\"T_3c260_row3_col1\" class=\"data row3 col1\" >Buildings, Safety Engineering & Env Department</td>\n",
       "      <td id=\"T_3c260_row3_col2\" class=\"data row3 col2\" >Sims, Martinzie</td>\n",
       "      <td id=\"T_3c260_row3_col3\" class=\"data row3 col3\" >MOROSI, MIKE</td>\n",
       "      <td id=\"T_3c260_row3_col4\" class=\"data row3 col4\" >1441.000</td>\n",
       "      <td id=\"T_3c260_row3_col5\" class=\"data row3 col5\" >LONGFELLOW</td>\n",
       "      <td id=\"T_3c260_row3_col6\" class=\"data row3 col6\" >nan</td>\n",
       "      <td id=\"T_3c260_row3_col7\" class=\"data row3 col7\" >5.000</td>\n",
       "      <td id=\"T_3c260_row3_col8\" class=\"data row3 col8\" >ST. CLAIR</td>\n",
       "      <td id=\"T_3c260_row3_col9\" class=\"data row3 col9\" >DETROIT</td>\n",
       "      <td id=\"T_3c260_row3_col10\" class=\"data row3 col10\" >MI</td>\n",
       "      <td id=\"T_3c260_row3_col11\" class=\"data row3 col11\" >48214</td>\n",
       "      <td id=\"T_3c260_row3_col12\" class=\"data row3 col12\" >nan</td>\n",
       "      <td id=\"T_3c260_row3_col13\" class=\"data row3 col13\" >USA</td>\n",
       "      <td id=\"T_3c260_row3_col14\" class=\"data row3 col14\" >2004-04-26 13:30:00</td>\n",
       "      <td id=\"T_3c260_row3_col15\" class=\"data row3 col15\" >nan</td>\n",
       "      <td id=\"T_3c260_row3_col16\" class=\"data row3 col16\" >9-1-36(a)</td>\n",
       "      <td id=\"T_3c260_row3_col17\" class=\"data row3 col17\" >Failure of owner to obtain certificate of compliance</td>\n",
       "      <td id=\"T_3c260_row3_col18\" class=\"data row3 col18\" >Not responsible by City Dismissal</td>\n",
       "      <td id=\"T_3c260_row3_col19\" class=\"data row3 col19\" >250.000</td>\n",
       "      <td id=\"T_3c260_row3_col20\" class=\"data row3 col20\" >0.000</td>\n",
       "      <td id=\"T_3c260_row3_col21\" class=\"data row3 col21\" >0.000</td>\n",
       "      <td id=\"T_3c260_row3_col22\" class=\"data row3 col22\" >0.000</td>\n",
       "      <td id=\"T_3c260_row3_col23\" class=\"data row3 col23\" >0.000</td>\n",
       "      <td id=\"T_3c260_row3_col24\" class=\"data row3 col24\" >0.000</td>\n",
       "      <td id=\"T_3c260_row3_col25\" class=\"data row3 col25\" >0.000</td>\n",
       "      <td id=\"T_3c260_row3_col26\" class=\"data row3 col26\" >0.000</td>\n",
       "      <td id=\"T_3c260_row3_col27\" class=\"data row3 col27\" >0.000</td>\n",
       "      <td id=\"T_3c260_row3_col28\" class=\"data row3 col28\" >nan</td>\n",
       "      <td id=\"T_3c260_row3_col29\" class=\"data row3 col29\" >NO PAYMENT APPLIED</td>\n",
       "      <td id=\"T_3c260_row3_col30\" class=\"data row3 col30\" >nan</td>\n",
       "      <td id=\"T_3c260_row3_col31\" class=\"data row3 col31\" >nan</td>\n",
       "      <td id=\"T_3c260_row3_col32\" class=\"data row3 col32\" >not responsible by disposition</td>\n",
       "      <td id=\"T_3c260_row3_col33\" class=\"data row3 col33\" >nan</td>\n",
       "    </tr>\n",
       "    <tr>\n",
       "      <td id=\"T_3c260_row4_col0\" class=\"data row4 col0\" >22093</td>\n",
       "      <td id=\"T_3c260_row4_col1\" class=\"data row4 col1\" >Buildings, Safety Engineering & Env Department</td>\n",
       "      <td id=\"T_3c260_row4_col2\" class=\"data row4 col2\" >Sims, Martinzie</td>\n",
       "      <td id=\"T_3c260_row4_col3\" class=\"data row4 col3\" >NATHANIEL, NEAL</td>\n",
       "      <td id=\"T_3c260_row4_col4\" class=\"data row4 col4\" >2449.000</td>\n",
       "      <td id=\"T_3c260_row4_col5\" class=\"data row4 col5\" >CHURCHILL</td>\n",
       "      <td id=\"T_3c260_row4_col6\" class=\"data row4 col6\" >nan</td>\n",
       "      <td id=\"T_3c260_row4_col7\" class=\"data row4 col7\" >7449.000</td>\n",
       "      <td id=\"T_3c260_row4_col8\" class=\"data row4 col8\" >CHURCHILL</td>\n",
       "      <td id=\"T_3c260_row4_col9\" class=\"data row4 col9\" >DETROIT</td>\n",
       "      <td id=\"T_3c260_row4_col10\" class=\"data row4 col10\" >MI</td>\n",
       "      <td id=\"T_3c260_row4_col11\" class=\"data row4 col11\" >48206</td>\n",
       "      <td id=\"T_3c260_row4_col12\" class=\"data row4 col12\" >nan</td>\n",
       "      <td id=\"T_3c260_row4_col13\" class=\"data row4 col13\" >USA</td>\n",
       "      <td id=\"T_3c260_row4_col14\" class=\"data row4 col14\" >2004-04-26 13:00:00</td>\n",
       "      <td id=\"T_3c260_row4_col15\" class=\"data row4 col15\" >2005-03-29 10:30:00</td>\n",
       "      <td id=\"T_3c260_row4_col16\" class=\"data row4 col16\" >9-1-36(a)</td>\n",
       "      <td id=\"T_3c260_row4_col17\" class=\"data row4 col17\" >Failure of owner to obtain certificate of compliance</td>\n",
       "      <td id=\"T_3c260_row4_col18\" class=\"data row4 col18\" >Not responsible by Dismissal</td>\n",
       "      <td id=\"T_3c260_row4_col19\" class=\"data row4 col19\" >250.000</td>\n",
       "      <td id=\"T_3c260_row4_col20\" class=\"data row4 col20\" >0.000</td>\n",
       "      <td id=\"T_3c260_row4_col21\" class=\"data row4 col21\" >0.000</td>\n",
       "      <td id=\"T_3c260_row4_col22\" class=\"data row4 col22\" >0.000</td>\n",
       "      <td id=\"T_3c260_row4_col23\" class=\"data row4 col23\" >0.000</td>\n",
       "      <td id=\"T_3c260_row4_col24\" class=\"data row4 col24\" >0.000</td>\n",
       "      <td id=\"T_3c260_row4_col25\" class=\"data row4 col25\" >0.000</td>\n",
       "      <td id=\"T_3c260_row4_col26\" class=\"data row4 col26\" >0.000</td>\n",
       "      <td id=\"T_3c260_row4_col27\" class=\"data row4 col27\" >0.000</td>\n",
       "      <td id=\"T_3c260_row4_col28\" class=\"data row4 col28\" >nan</td>\n",
       "      <td id=\"T_3c260_row4_col29\" class=\"data row4 col29\" >NO PAYMENT APPLIED</td>\n",
       "      <td id=\"T_3c260_row4_col30\" class=\"data row4 col30\" >nan</td>\n",
       "      <td id=\"T_3c260_row4_col31\" class=\"data row4 col31\" >nan</td>\n",
       "      <td id=\"T_3c260_row4_col32\" class=\"data row4 col32\" >not responsible by disposition</td>\n",
       "      <td id=\"T_3c260_row4_col33\" class=\"data row4 col33\" >nan</td>\n",
       "    </tr>\n",
       "  </tbody>\n",
       "</table>\n"
      ],
      "text/plain": [
       "<pandas.io.formats.style.Styler at 0x110617fad90>"
      ]
     },
     "execution_count": 5,
     "metadata": {},
     "output_type": "execute_result"
    }
   ],
   "source": [
    "train_df.head().style.highlight_null('brown').hide_index()"
   ]
  },
  {
   "cell_type": "code",
   "execution_count": 6,
   "metadata": {},
   "outputs": [
    {
     "data": {
      "text/html": [
       "<style type=\"text/css\">\n",
       "#T_e776c_row0_col6, #T_e776c_row0_col12, #T_e776c_row0_col28, #T_e776c_row0_col30, #T_e776c_row0_col31, #T_e776c_row0_col33, #T_e776c_row1_col6, #T_e776c_row1_col12, #T_e776c_row1_col28, #T_e776c_row1_col30, #T_e776c_row1_col31, #T_e776c_row1_col33, #T_e776c_row2_col6, #T_e776c_row2_col12, #T_e776c_row2_col28, #T_e776c_row2_col30, #T_e776c_row2_col31, #T_e776c_row2_col33, #T_e776c_row3_col6, #T_e776c_row3_col12, #T_e776c_row3_col28, #T_e776c_row3_col30, #T_e776c_row3_col31, #T_e776c_row3_col33, #T_e776c_row4_col6, #T_e776c_row4_col12, #T_e776c_row4_col28, #T_e776c_row4_col30, #T_e776c_row4_col31, #T_e776c_row4_col33 {\n",
       "  background-color: brown;\n",
       "}\n",
       "</style>\n",
       "<table id=\"T_e776c_\">\n",
       "  <thead>\n",
       "    <tr>\n",
       "      <th class=\"col_heading level0 col0\" >ticket_id</th>\n",
       "      <th class=\"col_heading level0 col1\" >agency_name</th>\n",
       "      <th class=\"col_heading level0 col2\" >inspector_name</th>\n",
       "      <th class=\"col_heading level0 col3\" >violator_name</th>\n",
       "      <th class=\"col_heading level0 col4\" >violation_street_number</th>\n",
       "      <th class=\"col_heading level0 col5\" >violation_street_name</th>\n",
       "      <th class=\"col_heading level0 col6\" >violation_zip_code</th>\n",
       "      <th class=\"col_heading level0 col7\" >mailing_address_str_number</th>\n",
       "      <th class=\"col_heading level0 col8\" >mailing_address_str_name</th>\n",
       "      <th class=\"col_heading level0 col9\" >city</th>\n",
       "      <th class=\"col_heading level0 col10\" >state</th>\n",
       "      <th class=\"col_heading level0 col11\" >zip_code</th>\n",
       "      <th class=\"col_heading level0 col12\" >non_us_str_code</th>\n",
       "      <th class=\"col_heading level0 col13\" >country</th>\n",
       "      <th class=\"col_heading level0 col14\" >ticket_issued_date</th>\n",
       "      <th class=\"col_heading level0 col15\" >hearing_date</th>\n",
       "      <th class=\"col_heading level0 col16\" >violation_code</th>\n",
       "      <th class=\"col_heading level0 col17\" >violation_description</th>\n",
       "      <th class=\"col_heading level0 col18\" >disposition</th>\n",
       "      <th class=\"col_heading level0 col19\" >fine_amount</th>\n",
       "      <th class=\"col_heading level0 col20\" >admin_fee</th>\n",
       "      <th class=\"col_heading level0 col21\" >state_fee</th>\n",
       "      <th class=\"col_heading level0 col22\" >late_fee</th>\n",
       "      <th class=\"col_heading level0 col23\" >discount_amount</th>\n",
       "      <th class=\"col_heading level0 col24\" >clean_up_cost</th>\n",
       "      <th class=\"col_heading level0 col25\" >judgment_amount</th>\n",
       "      <th class=\"col_heading level0 col26\" >payment_amount</th>\n",
       "      <th class=\"col_heading level0 col27\" >balance_due</th>\n",
       "      <th class=\"col_heading level0 col28\" >payment_date</th>\n",
       "      <th class=\"col_heading level0 col29\" >payment_status</th>\n",
       "      <th class=\"col_heading level0 col30\" >collection_status</th>\n",
       "      <th class=\"col_heading level0 col31\" >grafitti_status</th>\n",
       "      <th class=\"col_heading level0 col32\" >compliance_detail</th>\n",
       "      <th class=\"col_heading level0 col33\" >compliance</th>\n",
       "    </tr>\n",
       "  </thead>\n",
       "  <tbody>\n",
       "    <tr>\n",
       "      <td id=\"T_e776c_row0_col0\" class=\"data row0 col0\" >325555</td>\n",
       "      <td id=\"T_e776c_row0_col1\" class=\"data row0 col1\" >Buildings, Safety Engineering & Env Department</td>\n",
       "      <td id=\"T_e776c_row0_col2\" class=\"data row0 col2\" >Bush, Wesley</td>\n",
       "      <td id=\"T_e776c_row0_col3\" class=\"data row0 col3\" >WESTGATE TERRACE APARTMENTS LLC</td>\n",
       "      <td id=\"T_e776c_row0_col4\" class=\"data row0 col4\" >10701.000</td>\n",
       "      <td id=\"T_e776c_row0_col5\" class=\"data row0 col5\" >SANTA MARIA</td>\n",
       "      <td id=\"T_e776c_row0_col6\" class=\"data row0 col6\" >nan</td>\n",
       "      <td id=\"T_e776c_row0_col7\" class=\"data row0 col7\" >1715.000</td>\n",
       "      <td id=\"T_e776c_row0_col8\" class=\"data row0 col8\" >MEYERS</td>\n",
       "      <td id=\"T_e776c_row0_col9\" class=\"data row0 col9\" >DETROIT</td>\n",
       "      <td id=\"T_e776c_row0_col10\" class=\"data row0 col10\" >MI</td>\n",
       "      <td id=\"T_e776c_row0_col11\" class=\"data row0 col11\" >48235</td>\n",
       "      <td id=\"T_e776c_row0_col12\" class=\"data row0 col12\" >nan</td>\n",
       "      <td id=\"T_e776c_row0_col13\" class=\"data row0 col13\" >USA</td>\n",
       "      <td id=\"T_e776c_row0_col14\" class=\"data row0 col14\" >2010-12-02 11:00:00</td>\n",
       "      <td id=\"T_e776c_row0_col15\" class=\"data row0 col15\" >2015-01-06 09:00:00</td>\n",
       "      <td id=\"T_e776c_row0_col16\" class=\"data row0 col16\" >9-1-43(a) - (Structu</td>\n",
       "      <td id=\"T_e776c_row0_col17\" class=\"data row0 col17\" >Fail to comply with an Emergency or imminent danger order concerining an unsafe or unsanitary structure or unlawful occupancy (all other structures, except buildings with five (5) or more stories)</td>\n",
       "      <td id=\"T_e776c_row0_col18\" class=\"data row0 col18\" >Not responsible by City Dismissal</td>\n",
       "      <td id=\"T_e776c_row0_col19\" class=\"data row0 col19\" >1000.000</td>\n",
       "      <td id=\"T_e776c_row0_col20\" class=\"data row0 col20\" >0.000</td>\n",
       "      <td id=\"T_e776c_row0_col21\" class=\"data row0 col21\" >0.000</td>\n",
       "      <td id=\"T_e776c_row0_col22\" class=\"data row0 col22\" >0.000</td>\n",
       "      <td id=\"T_e776c_row0_col23\" class=\"data row0 col23\" >0.000</td>\n",
       "      <td id=\"T_e776c_row0_col24\" class=\"data row0 col24\" >0.000</td>\n",
       "      <td id=\"T_e776c_row0_col25\" class=\"data row0 col25\" >0.000</td>\n",
       "      <td id=\"T_e776c_row0_col26\" class=\"data row0 col26\" >0.000</td>\n",
       "      <td id=\"T_e776c_row0_col27\" class=\"data row0 col27\" >0.000</td>\n",
       "      <td id=\"T_e776c_row0_col28\" class=\"data row0 col28\" >nan</td>\n",
       "      <td id=\"T_e776c_row0_col29\" class=\"data row0 col29\" >NO PAYMENT APPLIED</td>\n",
       "      <td id=\"T_e776c_row0_col30\" class=\"data row0 col30\" >nan</td>\n",
       "      <td id=\"T_e776c_row0_col31\" class=\"data row0 col31\" >nan</td>\n",
       "      <td id=\"T_e776c_row0_col32\" class=\"data row0 col32\" >not responsible by disposition</td>\n",
       "      <td id=\"T_e776c_row0_col33\" class=\"data row0 col33\" >nan</td>\n",
       "    </tr>\n",
       "    <tr>\n",
       "      <td id=\"T_e776c_row1_col0\" class=\"data row1 col0\" >325557</td>\n",
       "      <td id=\"T_e776c_row1_col1\" class=\"data row1 col1\" >Buildings, Safety Engineering & Env Department</td>\n",
       "      <td id=\"T_e776c_row1_col2\" class=\"data row1 col2\" >Bush, Wesley</td>\n",
       "      <td id=\"T_e776c_row1_col3\" class=\"data row1 col3\" >WESTGATE TERRACE APARTMENTS LLC</td>\n",
       "      <td id=\"T_e776c_row1_col4\" class=\"data row1 col4\" >10701.000</td>\n",
       "      <td id=\"T_e776c_row1_col5\" class=\"data row1 col5\" >MEYERS RD</td>\n",
       "      <td id=\"T_e776c_row1_col6\" class=\"data row1 col6\" >nan</td>\n",
       "      <td id=\"T_e776c_row1_col7\" class=\"data row1 col7\" >1715.000</td>\n",
       "      <td id=\"T_e776c_row1_col8\" class=\"data row1 col8\" >MEYERS</td>\n",
       "      <td id=\"T_e776c_row1_col9\" class=\"data row1 col9\" >DETROIT</td>\n",
       "      <td id=\"T_e776c_row1_col10\" class=\"data row1 col10\" >MI</td>\n",
       "      <td id=\"T_e776c_row1_col11\" class=\"data row1 col11\" >48235</td>\n",
       "      <td id=\"T_e776c_row1_col12\" class=\"data row1 col12\" >nan</td>\n",
       "      <td id=\"T_e776c_row1_col13\" class=\"data row1 col13\" >USA</td>\n",
       "      <td id=\"T_e776c_row1_col14\" class=\"data row1 col14\" >2010-12-02 11:00:00</td>\n",
       "      <td id=\"T_e776c_row1_col15\" class=\"data row1 col15\" >2015-01-06 09:00:00</td>\n",
       "      <td id=\"T_e776c_row1_col16\" class=\"data row1 col16\" >9-1-43(a) - (Structu</td>\n",
       "      <td id=\"T_e776c_row1_col17\" class=\"data row1 col17\" >Fail to comply with an Emergency or imminent danger order concerining an unsafe or unsanitary structure or unlawful occupancy (all other structures, except buildings with five (5) or more stories)</td>\n",
       "      <td id=\"T_e776c_row1_col18\" class=\"data row1 col18\" >Not responsible by City Dismissal</td>\n",
       "      <td id=\"T_e776c_row1_col19\" class=\"data row1 col19\" >1000.000</td>\n",
       "      <td id=\"T_e776c_row1_col20\" class=\"data row1 col20\" >0.000</td>\n",
       "      <td id=\"T_e776c_row1_col21\" class=\"data row1 col21\" >0.000</td>\n",
       "      <td id=\"T_e776c_row1_col22\" class=\"data row1 col22\" >0.000</td>\n",
       "      <td id=\"T_e776c_row1_col23\" class=\"data row1 col23\" >0.000</td>\n",
       "      <td id=\"T_e776c_row1_col24\" class=\"data row1 col24\" >0.000</td>\n",
       "      <td id=\"T_e776c_row1_col25\" class=\"data row1 col25\" >0.000</td>\n",
       "      <td id=\"T_e776c_row1_col26\" class=\"data row1 col26\" >0.000</td>\n",
       "      <td id=\"T_e776c_row1_col27\" class=\"data row1 col27\" >0.000</td>\n",
       "      <td id=\"T_e776c_row1_col28\" class=\"data row1 col28\" >nan</td>\n",
       "      <td id=\"T_e776c_row1_col29\" class=\"data row1 col29\" >NO PAYMENT APPLIED</td>\n",
       "      <td id=\"T_e776c_row1_col30\" class=\"data row1 col30\" >nan</td>\n",
       "      <td id=\"T_e776c_row1_col31\" class=\"data row1 col31\" >nan</td>\n",
       "      <td id=\"T_e776c_row1_col32\" class=\"data row1 col32\" >not responsible by disposition</td>\n",
       "      <td id=\"T_e776c_row1_col33\" class=\"data row1 col33\" >nan</td>\n",
       "    </tr>\n",
       "    <tr>\n",
       "      <td id=\"T_e776c_row2_col0\" class=\"data row2 col0\" >325562</td>\n",
       "      <td id=\"T_e776c_row2_col1\" class=\"data row2 col1\" >Buildings, Safety Engineering & Env Department</td>\n",
       "      <td id=\"T_e776c_row2_col2\" class=\"data row2 col2\" >Bush, Wesley</td>\n",
       "      <td id=\"T_e776c_row2_col3\" class=\"data row2 col3\" >WESTGATE TERRACE APARTMENTS LLC</td>\n",
       "      <td id=\"T_e776c_row2_col4\" class=\"data row2 col4\" >10701.000</td>\n",
       "      <td id=\"T_e776c_row2_col5\" class=\"data row2 col5\" >MEYERS RD</td>\n",
       "      <td id=\"T_e776c_row2_col6\" class=\"data row2 col6\" >nan</td>\n",
       "      <td id=\"T_e776c_row2_col7\" class=\"data row2 col7\" >1715.000</td>\n",
       "      <td id=\"T_e776c_row2_col8\" class=\"data row2 col8\" >MEYERS</td>\n",
       "      <td id=\"T_e776c_row2_col9\" class=\"data row2 col9\" >DETROIT</td>\n",
       "      <td id=\"T_e776c_row2_col10\" class=\"data row2 col10\" >MI</td>\n",
       "      <td id=\"T_e776c_row2_col11\" class=\"data row2 col11\" >48235</td>\n",
       "      <td id=\"T_e776c_row2_col12\" class=\"data row2 col12\" >nan</td>\n",
       "      <td id=\"T_e776c_row2_col13\" class=\"data row2 col13\" >USA</td>\n",
       "      <td id=\"T_e776c_row2_col14\" class=\"data row2 col14\" >2010-12-02 11:00:00</td>\n",
       "      <td id=\"T_e776c_row2_col15\" class=\"data row2 col15\" >2015-01-06 09:00:00</td>\n",
       "      <td id=\"T_e776c_row2_col16\" class=\"data row2 col16\" >9-1-43(a) - (Structu</td>\n",
       "      <td id=\"T_e776c_row2_col17\" class=\"data row2 col17\" >Fail to comply with an Emergency or imminent danger order concerining an unsafe or unsanitary structure or unlawful occupancy (all other structures, except buildings with five (5) or more stories)</td>\n",
       "      <td id=\"T_e776c_row2_col18\" class=\"data row2 col18\" >Not responsible by City Dismissal</td>\n",
       "      <td id=\"T_e776c_row2_col19\" class=\"data row2 col19\" >1000.000</td>\n",
       "      <td id=\"T_e776c_row2_col20\" class=\"data row2 col20\" >0.000</td>\n",
       "      <td id=\"T_e776c_row2_col21\" class=\"data row2 col21\" >0.000</td>\n",
       "      <td id=\"T_e776c_row2_col22\" class=\"data row2 col22\" >0.000</td>\n",
       "      <td id=\"T_e776c_row2_col23\" class=\"data row2 col23\" >0.000</td>\n",
       "      <td id=\"T_e776c_row2_col24\" class=\"data row2 col24\" >0.000</td>\n",
       "      <td id=\"T_e776c_row2_col25\" class=\"data row2 col25\" >0.000</td>\n",
       "      <td id=\"T_e776c_row2_col26\" class=\"data row2 col26\" >0.000</td>\n",
       "      <td id=\"T_e776c_row2_col27\" class=\"data row2 col27\" >0.000</td>\n",
       "      <td id=\"T_e776c_row2_col28\" class=\"data row2 col28\" >nan</td>\n",
       "      <td id=\"T_e776c_row2_col29\" class=\"data row2 col29\" >NO PAYMENT APPLIED</td>\n",
       "      <td id=\"T_e776c_row2_col30\" class=\"data row2 col30\" >nan</td>\n",
       "      <td id=\"T_e776c_row2_col31\" class=\"data row2 col31\" >nan</td>\n",
       "      <td id=\"T_e776c_row2_col32\" class=\"data row2 col32\" >not responsible by disposition</td>\n",
       "      <td id=\"T_e776c_row2_col33\" class=\"data row2 col33\" >nan</td>\n",
       "    </tr>\n",
       "    <tr>\n",
       "      <td id=\"T_e776c_row3_col0\" class=\"data row3 col0\" >325559</td>\n",
       "      <td id=\"T_e776c_row3_col1\" class=\"data row3 col1\" >Buildings, Safety Engineering & Env Department</td>\n",
       "      <td id=\"T_e776c_row3_col2\" class=\"data row3 col2\" >Bush, Wesley</td>\n",
       "      <td id=\"T_e776c_row3_col3\" class=\"data row3 col3\" >WESTGATE TERRACE APARTMENTS LLC</td>\n",
       "      <td id=\"T_e776c_row3_col4\" class=\"data row3 col4\" >10701.000</td>\n",
       "      <td id=\"T_e776c_row3_col5\" class=\"data row3 col5\" >MEYERS RD</td>\n",
       "      <td id=\"T_e776c_row3_col6\" class=\"data row3 col6\" >nan</td>\n",
       "      <td id=\"T_e776c_row3_col7\" class=\"data row3 col7\" >1715.000</td>\n",
       "      <td id=\"T_e776c_row3_col8\" class=\"data row3 col8\" >MEYERS</td>\n",
       "      <td id=\"T_e776c_row3_col9\" class=\"data row3 col9\" >DETROIT</td>\n",
       "      <td id=\"T_e776c_row3_col10\" class=\"data row3 col10\" >MI</td>\n",
       "      <td id=\"T_e776c_row3_col11\" class=\"data row3 col11\" >48235</td>\n",
       "      <td id=\"T_e776c_row3_col12\" class=\"data row3 col12\" >nan</td>\n",
       "      <td id=\"T_e776c_row3_col13\" class=\"data row3 col13\" >USA</td>\n",
       "      <td id=\"T_e776c_row3_col14\" class=\"data row3 col14\" >2010-12-02 11:00:00</td>\n",
       "      <td id=\"T_e776c_row3_col15\" class=\"data row3 col15\" >2015-01-06 09:00:00</td>\n",
       "      <td id=\"T_e776c_row3_col16\" class=\"data row3 col16\" >9-1-43(a) - (Structu</td>\n",
       "      <td id=\"T_e776c_row3_col17\" class=\"data row3 col17\" >Fail to comply with an Emergency or imminent danger order concerining an unsafe or unsanitary structure or unlawful occupancy (all other structures, except buildings with five (5) or more stories)</td>\n",
       "      <td id=\"T_e776c_row3_col18\" class=\"data row3 col18\" >Not responsible by City Dismissal</td>\n",
       "      <td id=\"T_e776c_row3_col19\" class=\"data row3 col19\" >1000.000</td>\n",
       "      <td id=\"T_e776c_row3_col20\" class=\"data row3 col20\" >0.000</td>\n",
       "      <td id=\"T_e776c_row3_col21\" class=\"data row3 col21\" >0.000</td>\n",
       "      <td id=\"T_e776c_row3_col22\" class=\"data row3 col22\" >0.000</td>\n",
       "      <td id=\"T_e776c_row3_col23\" class=\"data row3 col23\" >0.000</td>\n",
       "      <td id=\"T_e776c_row3_col24\" class=\"data row3 col24\" >0.000</td>\n",
       "      <td id=\"T_e776c_row3_col25\" class=\"data row3 col25\" >0.000</td>\n",
       "      <td id=\"T_e776c_row3_col26\" class=\"data row3 col26\" >0.000</td>\n",
       "      <td id=\"T_e776c_row3_col27\" class=\"data row3 col27\" >0.000</td>\n",
       "      <td id=\"T_e776c_row3_col28\" class=\"data row3 col28\" >nan</td>\n",
       "      <td id=\"T_e776c_row3_col29\" class=\"data row3 col29\" >NO PAYMENT APPLIED</td>\n",
       "      <td id=\"T_e776c_row3_col30\" class=\"data row3 col30\" >nan</td>\n",
       "      <td id=\"T_e776c_row3_col31\" class=\"data row3 col31\" >nan</td>\n",
       "      <td id=\"T_e776c_row3_col32\" class=\"data row3 col32\" >not responsible by disposition</td>\n",
       "      <td id=\"T_e776c_row3_col33\" class=\"data row3 col33\" >nan</td>\n",
       "    </tr>\n",
       "    <tr>\n",
       "      <td id=\"T_e776c_row4_col0\" class=\"data row4 col0\" >325561</td>\n",
       "      <td id=\"T_e776c_row4_col1\" class=\"data row4 col1\" >Buildings, Safety Engineering & Env Department</td>\n",
       "      <td id=\"T_e776c_row4_col2\" class=\"data row4 col2\" >Bush, Wesley</td>\n",
       "      <td id=\"T_e776c_row4_col3\" class=\"data row4 col3\" >WESTGATE TERRACE APARTMENTS LLC</td>\n",
       "      <td id=\"T_e776c_row4_col4\" class=\"data row4 col4\" >10701.000</td>\n",
       "      <td id=\"T_e776c_row4_col5\" class=\"data row4 col5\" >MEYERS RD</td>\n",
       "      <td id=\"T_e776c_row4_col6\" class=\"data row4 col6\" >nan</td>\n",
       "      <td id=\"T_e776c_row4_col7\" class=\"data row4 col7\" >1715.000</td>\n",
       "      <td id=\"T_e776c_row4_col8\" class=\"data row4 col8\" >MEYERS</td>\n",
       "      <td id=\"T_e776c_row4_col9\" class=\"data row4 col9\" >DETROIT</td>\n",
       "      <td id=\"T_e776c_row4_col10\" class=\"data row4 col10\" >MI</td>\n",
       "      <td id=\"T_e776c_row4_col11\" class=\"data row4 col11\" >48235</td>\n",
       "      <td id=\"T_e776c_row4_col12\" class=\"data row4 col12\" >nan</td>\n",
       "      <td id=\"T_e776c_row4_col13\" class=\"data row4 col13\" >USA</td>\n",
       "      <td id=\"T_e776c_row4_col14\" class=\"data row4 col14\" >2010-12-02 11:00:00</td>\n",
       "      <td id=\"T_e776c_row4_col15\" class=\"data row4 col15\" >2015-01-06 09:00:00</td>\n",
       "      <td id=\"T_e776c_row4_col16\" class=\"data row4 col16\" >9-1-43(a) - (Structu</td>\n",
       "      <td id=\"T_e776c_row4_col17\" class=\"data row4 col17\" >Fail to comply with an Emergency or imminent danger order concerining an unsafe or unsanitary structure or unlawful occupancy (all other structures, except buildings with five (5) or more stories)</td>\n",
       "      <td id=\"T_e776c_row4_col18\" class=\"data row4 col18\" >Not responsible by City Dismissal</td>\n",
       "      <td id=\"T_e776c_row4_col19\" class=\"data row4 col19\" >1000.000</td>\n",
       "      <td id=\"T_e776c_row4_col20\" class=\"data row4 col20\" >0.000</td>\n",
       "      <td id=\"T_e776c_row4_col21\" class=\"data row4 col21\" >0.000</td>\n",
       "      <td id=\"T_e776c_row4_col22\" class=\"data row4 col22\" >0.000</td>\n",
       "      <td id=\"T_e776c_row4_col23\" class=\"data row4 col23\" >0.000</td>\n",
       "      <td id=\"T_e776c_row4_col24\" class=\"data row4 col24\" >0.000</td>\n",
       "      <td id=\"T_e776c_row4_col25\" class=\"data row4 col25\" >0.000</td>\n",
       "      <td id=\"T_e776c_row4_col26\" class=\"data row4 col26\" >0.000</td>\n",
       "      <td id=\"T_e776c_row4_col27\" class=\"data row4 col27\" >0.000</td>\n",
       "      <td id=\"T_e776c_row4_col28\" class=\"data row4 col28\" >nan</td>\n",
       "      <td id=\"T_e776c_row4_col29\" class=\"data row4 col29\" >NO PAYMENT APPLIED</td>\n",
       "      <td id=\"T_e776c_row4_col30\" class=\"data row4 col30\" >nan</td>\n",
       "      <td id=\"T_e776c_row4_col31\" class=\"data row4 col31\" >nan</td>\n",
       "      <td id=\"T_e776c_row4_col32\" class=\"data row4 col32\" >not responsible by disposition</td>\n",
       "      <td id=\"T_e776c_row4_col33\" class=\"data row4 col33\" >nan</td>\n",
       "    </tr>\n",
       "  </tbody>\n",
       "</table>\n"
      ],
      "text/plain": [
       "<pandas.io.formats.style.Styler at 0x11063952d90>"
      ]
     },
     "execution_count": 6,
     "metadata": {},
     "output_type": "execute_result"
    }
   ],
   "source": [
    "train_df.tail().style.highlight_null('brown').hide_index()"
   ]
  },
  {
   "cell_type": "markdown",
   "metadata": {},
   "source": [
    "#### Initial look at the raw data in `test dataset` - First & Last 10 rows:"
   ]
  },
  {
   "cell_type": "code",
   "execution_count": 7,
   "metadata": {},
   "outputs": [
    {
     "data": {
      "text/html": [
       "<style type=\"text/css\">\n",
       "#T_37fb7_row0_col6, #T_37fb7_row0_col12, #T_37fb7_row0_col26, #T_37fb7_row1_col6, #T_37fb7_row1_col12, #T_37fb7_row1_col26, #T_37fb7_row2_col6, #T_37fb7_row2_col12, #T_37fb7_row2_col26, #T_37fb7_row3_col6, #T_37fb7_row3_col12, #T_37fb7_row3_col26, #T_37fb7_row4_col6, #T_37fb7_row4_col12, #T_37fb7_row4_col26 {\n",
       "  background-color: brown;\n",
       "}\n",
       "</style>\n",
       "<table id=\"T_37fb7_\">\n",
       "  <thead>\n",
       "    <tr>\n",
       "      <th class=\"col_heading level0 col0\" >ticket_id</th>\n",
       "      <th class=\"col_heading level0 col1\" >agency_name</th>\n",
       "      <th class=\"col_heading level0 col2\" >inspector_name</th>\n",
       "      <th class=\"col_heading level0 col3\" >violator_name</th>\n",
       "      <th class=\"col_heading level0 col4\" >violation_street_number</th>\n",
       "      <th class=\"col_heading level0 col5\" >violation_street_name</th>\n",
       "      <th class=\"col_heading level0 col6\" >violation_zip_code</th>\n",
       "      <th class=\"col_heading level0 col7\" >mailing_address_str_number</th>\n",
       "      <th class=\"col_heading level0 col8\" >mailing_address_str_name</th>\n",
       "      <th class=\"col_heading level0 col9\" >city</th>\n",
       "      <th class=\"col_heading level0 col10\" >state</th>\n",
       "      <th class=\"col_heading level0 col11\" >zip_code</th>\n",
       "      <th class=\"col_heading level0 col12\" >non_us_str_code</th>\n",
       "      <th class=\"col_heading level0 col13\" >country</th>\n",
       "      <th class=\"col_heading level0 col14\" >ticket_issued_date</th>\n",
       "      <th class=\"col_heading level0 col15\" >hearing_date</th>\n",
       "      <th class=\"col_heading level0 col16\" >violation_code</th>\n",
       "      <th class=\"col_heading level0 col17\" >violation_description</th>\n",
       "      <th class=\"col_heading level0 col18\" >disposition</th>\n",
       "      <th class=\"col_heading level0 col19\" >fine_amount</th>\n",
       "      <th class=\"col_heading level0 col20\" >admin_fee</th>\n",
       "      <th class=\"col_heading level0 col21\" >state_fee</th>\n",
       "      <th class=\"col_heading level0 col22\" >late_fee</th>\n",
       "      <th class=\"col_heading level0 col23\" >discount_amount</th>\n",
       "      <th class=\"col_heading level0 col24\" >clean_up_cost</th>\n",
       "      <th class=\"col_heading level0 col25\" >judgment_amount</th>\n",
       "      <th class=\"col_heading level0 col26\" >grafitti_status</th>\n",
       "    </tr>\n",
       "  </thead>\n",
       "  <tbody>\n",
       "    <tr>\n",
       "      <td id=\"T_37fb7_row0_col0\" class=\"data row0 col0\" >284932</td>\n",
       "      <td id=\"T_37fb7_row0_col1\" class=\"data row0 col1\" >Department of Public Works</td>\n",
       "      <td id=\"T_37fb7_row0_col2\" class=\"data row0 col2\" >Granberry, Aisha B</td>\n",
       "      <td id=\"T_37fb7_row0_col3\" class=\"data row0 col3\" >FLUELLEN, JOHN A</td>\n",
       "      <td id=\"T_37fb7_row0_col4\" class=\"data row0 col4\" >10041.000</td>\n",
       "      <td id=\"T_37fb7_row0_col5\" class=\"data row0 col5\" >ROSEBERRY</td>\n",
       "      <td id=\"T_37fb7_row0_col6\" class=\"data row0 col6\" >nan</td>\n",
       "      <td id=\"T_37fb7_row0_col7\" class=\"data row0 col7\" >141</td>\n",
       "      <td id=\"T_37fb7_row0_col8\" class=\"data row0 col8\" >ROSEBERRY</td>\n",
       "      <td id=\"T_37fb7_row0_col9\" class=\"data row0 col9\" >DETROIT</td>\n",
       "      <td id=\"T_37fb7_row0_col10\" class=\"data row0 col10\" >MI</td>\n",
       "      <td id=\"T_37fb7_row0_col11\" class=\"data row0 col11\" >48213</td>\n",
       "      <td id=\"T_37fb7_row0_col12\" class=\"data row0 col12\" >nan</td>\n",
       "      <td id=\"T_37fb7_row0_col13\" class=\"data row0 col13\" >USA</td>\n",
       "      <td id=\"T_37fb7_row0_col14\" class=\"data row0 col14\" >2012-01-04 14:00:00</td>\n",
       "      <td id=\"T_37fb7_row0_col15\" class=\"data row0 col15\" >2012-01-19 09:00:00</td>\n",
       "      <td id=\"T_37fb7_row0_col16\" class=\"data row0 col16\" >22-2-61</td>\n",
       "      <td id=\"T_37fb7_row0_col17\" class=\"data row0 col17\" >Failure to secure City or Private solid waste collection containers and services</td>\n",
       "      <td id=\"T_37fb7_row0_col18\" class=\"data row0 col18\" >Responsible by Default</td>\n",
       "      <td id=\"T_37fb7_row0_col19\" class=\"data row0 col19\" >200.000</td>\n",
       "      <td id=\"T_37fb7_row0_col20\" class=\"data row0 col20\" >20.000</td>\n",
       "      <td id=\"T_37fb7_row0_col21\" class=\"data row0 col21\" >10.000</td>\n",
       "      <td id=\"T_37fb7_row0_col22\" class=\"data row0 col22\" >20.000</td>\n",
       "      <td id=\"T_37fb7_row0_col23\" class=\"data row0 col23\" >0.000</td>\n",
       "      <td id=\"T_37fb7_row0_col24\" class=\"data row0 col24\" >0.000</td>\n",
       "      <td id=\"T_37fb7_row0_col25\" class=\"data row0 col25\" >250.000</td>\n",
       "      <td id=\"T_37fb7_row0_col26\" class=\"data row0 col26\" >nan</td>\n",
       "    </tr>\n",
       "    <tr>\n",
       "      <td id=\"T_37fb7_row1_col0\" class=\"data row1 col0\" >285362</td>\n",
       "      <td id=\"T_37fb7_row1_col1\" class=\"data row1 col1\" >Department of Public Works</td>\n",
       "      <td id=\"T_37fb7_row1_col2\" class=\"data row1 col2\" >Lusk, Gertrina</td>\n",
       "      <td id=\"T_37fb7_row1_col3\" class=\"data row1 col3\" >WHIGHAM, THELMA</td>\n",
       "      <td id=\"T_37fb7_row1_col4\" class=\"data row1 col4\" >18520.000</td>\n",
       "      <td id=\"T_37fb7_row1_col5\" class=\"data row1 col5\" >EVERGREEN</td>\n",
       "      <td id=\"T_37fb7_row1_col6\" class=\"data row1 col6\" >nan</td>\n",
       "      <td id=\"T_37fb7_row1_col7\" class=\"data row1 col7\" >19136</td>\n",
       "      <td id=\"T_37fb7_row1_col8\" class=\"data row1 col8\" >GLASTONBURY</td>\n",
       "      <td id=\"T_37fb7_row1_col9\" class=\"data row1 col9\" >DETROIT</td>\n",
       "      <td id=\"T_37fb7_row1_col10\" class=\"data row1 col10\" >MI</td>\n",
       "      <td id=\"T_37fb7_row1_col11\" class=\"data row1 col11\" >48219</td>\n",
       "      <td id=\"T_37fb7_row1_col12\" class=\"data row1 col12\" >nan</td>\n",
       "      <td id=\"T_37fb7_row1_col13\" class=\"data row1 col13\" >USA</td>\n",
       "      <td id=\"T_37fb7_row1_col14\" class=\"data row1 col14\" >2012-01-05 09:50:00</td>\n",
       "      <td id=\"T_37fb7_row1_col15\" class=\"data row1 col15\" >2012-02-06 09:00:00</td>\n",
       "      <td id=\"T_37fb7_row1_col16\" class=\"data row1 col16\" >22-2-88(b)</td>\n",
       "      <td id=\"T_37fb7_row1_col17\" class=\"data row1 col17\" >Allowing bulk solid waste to lie or accumulate on or about the premises</td>\n",
       "      <td id=\"T_37fb7_row1_col18\" class=\"data row1 col18\" >Responsible by Default</td>\n",
       "      <td id=\"T_37fb7_row1_col19\" class=\"data row1 col19\" >1000.000</td>\n",
       "      <td id=\"T_37fb7_row1_col20\" class=\"data row1 col20\" >20.000</td>\n",
       "      <td id=\"T_37fb7_row1_col21\" class=\"data row1 col21\" >10.000</td>\n",
       "      <td id=\"T_37fb7_row1_col22\" class=\"data row1 col22\" >100.000</td>\n",
       "      <td id=\"T_37fb7_row1_col23\" class=\"data row1 col23\" >0.000</td>\n",
       "      <td id=\"T_37fb7_row1_col24\" class=\"data row1 col24\" >0.000</td>\n",
       "      <td id=\"T_37fb7_row1_col25\" class=\"data row1 col25\" >1130.000</td>\n",
       "      <td id=\"T_37fb7_row1_col26\" class=\"data row1 col26\" >nan</td>\n",
       "    </tr>\n",
       "    <tr>\n",
       "      <td id=\"T_37fb7_row2_col0\" class=\"data row2 col0\" >285361</td>\n",
       "      <td id=\"T_37fb7_row2_col1\" class=\"data row2 col1\" >Department of Public Works</td>\n",
       "      <td id=\"T_37fb7_row2_col2\" class=\"data row2 col2\" >Lusk, Gertrina</td>\n",
       "      <td id=\"T_37fb7_row2_col3\" class=\"data row2 col3\" >WHIGHAM, THELMA</td>\n",
       "      <td id=\"T_37fb7_row2_col4\" class=\"data row2 col4\" >18520.000</td>\n",
       "      <td id=\"T_37fb7_row2_col5\" class=\"data row2 col5\" >EVERGREEN</td>\n",
       "      <td id=\"T_37fb7_row2_col6\" class=\"data row2 col6\" >nan</td>\n",
       "      <td id=\"T_37fb7_row2_col7\" class=\"data row2 col7\" >19136</td>\n",
       "      <td id=\"T_37fb7_row2_col8\" class=\"data row2 col8\" >GLASTONBURY</td>\n",
       "      <td id=\"T_37fb7_row2_col9\" class=\"data row2 col9\" >DETROIT</td>\n",
       "      <td id=\"T_37fb7_row2_col10\" class=\"data row2 col10\" >MI</td>\n",
       "      <td id=\"T_37fb7_row2_col11\" class=\"data row2 col11\" >48219</td>\n",
       "      <td id=\"T_37fb7_row2_col12\" class=\"data row2 col12\" >nan</td>\n",
       "      <td id=\"T_37fb7_row2_col13\" class=\"data row2 col13\" >USA</td>\n",
       "      <td id=\"T_37fb7_row2_col14\" class=\"data row2 col14\" >2012-01-05 09:50:00</td>\n",
       "      <td id=\"T_37fb7_row2_col15\" class=\"data row2 col15\" >2012-02-06 09:00:00</td>\n",
       "      <td id=\"T_37fb7_row2_col16\" class=\"data row2 col16\" >22-2-43</td>\n",
       "      <td id=\"T_37fb7_row2_col17\" class=\"data row2 col17\" >Improper placement of Courville container between collections</td>\n",
       "      <td id=\"T_37fb7_row2_col18\" class=\"data row2 col18\" >Responsible by Default</td>\n",
       "      <td id=\"T_37fb7_row2_col19\" class=\"data row2 col19\" >100.000</td>\n",
       "      <td id=\"T_37fb7_row2_col20\" class=\"data row2 col20\" >20.000</td>\n",
       "      <td id=\"T_37fb7_row2_col21\" class=\"data row2 col21\" >10.000</td>\n",
       "      <td id=\"T_37fb7_row2_col22\" class=\"data row2 col22\" >10.000</td>\n",
       "      <td id=\"T_37fb7_row2_col23\" class=\"data row2 col23\" >0.000</td>\n",
       "      <td id=\"T_37fb7_row2_col24\" class=\"data row2 col24\" >0.000</td>\n",
       "      <td id=\"T_37fb7_row2_col25\" class=\"data row2 col25\" >140.000</td>\n",
       "      <td id=\"T_37fb7_row2_col26\" class=\"data row2 col26\" >nan</td>\n",
       "    </tr>\n",
       "    <tr>\n",
       "      <td id=\"T_37fb7_row3_col0\" class=\"data row3 col0\" >285338</td>\n",
       "      <td id=\"T_37fb7_row3_col1\" class=\"data row3 col1\" >Department of Public Works</td>\n",
       "      <td id=\"T_37fb7_row3_col2\" class=\"data row3 col2\" >Talbert, Reginald</td>\n",
       "      <td id=\"T_37fb7_row3_col3\" class=\"data row3 col3\" >HARABEDIEN, POPKIN</td>\n",
       "      <td id=\"T_37fb7_row3_col4\" class=\"data row3 col4\" >1835.000</td>\n",
       "      <td id=\"T_37fb7_row3_col5\" class=\"data row3 col5\" >CENTRAL</td>\n",
       "      <td id=\"T_37fb7_row3_col6\" class=\"data row3 col6\" >nan</td>\n",
       "      <td id=\"T_37fb7_row3_col7\" class=\"data row3 col7\" >2246</td>\n",
       "      <td id=\"T_37fb7_row3_col8\" class=\"data row3 col8\" >NELSON</td>\n",
       "      <td id=\"T_37fb7_row3_col9\" class=\"data row3 col9\" >WOODHAVEN</td>\n",
       "      <td id=\"T_37fb7_row3_col10\" class=\"data row3 col10\" >MI</td>\n",
       "      <td id=\"T_37fb7_row3_col11\" class=\"data row3 col11\" >48183</td>\n",
       "      <td id=\"T_37fb7_row3_col12\" class=\"data row3 col12\" >nan</td>\n",
       "      <td id=\"T_37fb7_row3_col13\" class=\"data row3 col13\" >USA</td>\n",
       "      <td id=\"T_37fb7_row3_col14\" class=\"data row3 col14\" >2012-01-05 10:25:00</td>\n",
       "      <td id=\"T_37fb7_row3_col15\" class=\"data row3 col15\" >2012-02-07 09:00:00</td>\n",
       "      <td id=\"T_37fb7_row3_col16\" class=\"data row3 col16\" >22-2-88(b)</td>\n",
       "      <td id=\"T_37fb7_row3_col17\" class=\"data row3 col17\" >Allowing bulk solid waste to lie or accumulate on or about the premises</td>\n",
       "      <td id=\"T_37fb7_row3_col18\" class=\"data row3 col18\" >Responsible by Default</td>\n",
       "      <td id=\"T_37fb7_row3_col19\" class=\"data row3 col19\" >200.000</td>\n",
       "      <td id=\"T_37fb7_row3_col20\" class=\"data row3 col20\" >20.000</td>\n",
       "      <td id=\"T_37fb7_row3_col21\" class=\"data row3 col21\" >10.000</td>\n",
       "      <td id=\"T_37fb7_row3_col22\" class=\"data row3 col22\" >20.000</td>\n",
       "      <td id=\"T_37fb7_row3_col23\" class=\"data row3 col23\" >0.000</td>\n",
       "      <td id=\"T_37fb7_row3_col24\" class=\"data row3 col24\" >0.000</td>\n",
       "      <td id=\"T_37fb7_row3_col25\" class=\"data row3 col25\" >250.000</td>\n",
       "      <td id=\"T_37fb7_row3_col26\" class=\"data row3 col26\" >nan</td>\n",
       "    </tr>\n",
       "    <tr>\n",
       "      <td id=\"T_37fb7_row4_col0\" class=\"data row4 col0\" >285346</td>\n",
       "      <td id=\"T_37fb7_row4_col1\" class=\"data row4 col1\" >Department of Public Works</td>\n",
       "      <td id=\"T_37fb7_row4_col2\" class=\"data row4 col2\" >Talbert, Reginald</td>\n",
       "      <td id=\"T_37fb7_row4_col3\" class=\"data row4 col3\" >CORBELL, STANLEY</td>\n",
       "      <td id=\"T_37fb7_row4_col4\" class=\"data row4 col4\" >1700.000</td>\n",
       "      <td id=\"T_37fb7_row4_col5\" class=\"data row4 col5\" >CENTRAL</td>\n",
       "      <td id=\"T_37fb7_row4_col6\" class=\"data row4 col6\" >nan</td>\n",
       "      <td id=\"T_37fb7_row4_col7\" class=\"data row4 col7\" >3435</td>\n",
       "      <td id=\"T_37fb7_row4_col8\" class=\"data row4 col8\" >MUNGER</td>\n",
       "      <td id=\"T_37fb7_row4_col9\" class=\"data row4 col9\" >LIVONIA</td>\n",
       "      <td id=\"T_37fb7_row4_col10\" class=\"data row4 col10\" >MI</td>\n",
       "      <td id=\"T_37fb7_row4_col11\" class=\"data row4 col11\" >48154</td>\n",
       "      <td id=\"T_37fb7_row4_col12\" class=\"data row4 col12\" >nan</td>\n",
       "      <td id=\"T_37fb7_row4_col13\" class=\"data row4 col13\" >USA</td>\n",
       "      <td id=\"T_37fb7_row4_col14\" class=\"data row4 col14\" >2012-01-05 10:20:00</td>\n",
       "      <td id=\"T_37fb7_row4_col15\" class=\"data row4 col15\" >2012-02-14 09:00:00</td>\n",
       "      <td id=\"T_37fb7_row4_col16\" class=\"data row4 col16\" >22-2-45</td>\n",
       "      <td id=\"T_37fb7_row4_col17\" class=\"data row4 col17\" >Violation of time limit for approved containers to remain at curbside - early or late</td>\n",
       "      <td id=\"T_37fb7_row4_col18\" class=\"data row4 col18\" >Responsible by Default</td>\n",
       "      <td id=\"T_37fb7_row4_col19\" class=\"data row4 col19\" >100.000</td>\n",
       "      <td id=\"T_37fb7_row4_col20\" class=\"data row4 col20\" >20.000</td>\n",
       "      <td id=\"T_37fb7_row4_col21\" class=\"data row4 col21\" >10.000</td>\n",
       "      <td id=\"T_37fb7_row4_col22\" class=\"data row4 col22\" >10.000</td>\n",
       "      <td id=\"T_37fb7_row4_col23\" class=\"data row4 col23\" >0.000</td>\n",
       "      <td id=\"T_37fb7_row4_col24\" class=\"data row4 col24\" >0.000</td>\n",
       "      <td id=\"T_37fb7_row4_col25\" class=\"data row4 col25\" >140.000</td>\n",
       "      <td id=\"T_37fb7_row4_col26\" class=\"data row4 col26\" >nan</td>\n",
       "    </tr>\n",
       "  </tbody>\n",
       "</table>\n"
      ],
      "text/plain": [
       "<pandas.io.formats.style.Styler at 0x110639729a0>"
      ]
     },
     "execution_count": 7,
     "metadata": {},
     "output_type": "execute_result"
    }
   ],
   "source": [
    "test_df.head().style.highlight_null('brown').hide_index()"
   ]
  },
  {
   "cell_type": "code",
   "execution_count": 8,
   "metadata": {},
   "outputs": [
    {
     "data": {
      "text/html": [
       "<style type=\"text/css\">\n",
       "#T_1007d_row0_col12, #T_1007d_row0_col26, #T_1007d_row1_col12, #T_1007d_row1_col26, #T_1007d_row2_col12, #T_1007d_row2_col26, #T_1007d_row3_col12, #T_1007d_row3_col26, #T_1007d_row4_col12, #T_1007d_row4_col26 {\n",
       "  background-color: brown;\n",
       "}\n",
       "</style>\n",
       "<table id=\"T_1007d_\">\n",
       "  <thead>\n",
       "    <tr>\n",
       "      <th class=\"col_heading level0 col0\" >ticket_id</th>\n",
       "      <th class=\"col_heading level0 col1\" >agency_name</th>\n",
       "      <th class=\"col_heading level0 col2\" >inspector_name</th>\n",
       "      <th class=\"col_heading level0 col3\" >violator_name</th>\n",
       "      <th class=\"col_heading level0 col4\" >violation_street_number</th>\n",
       "      <th class=\"col_heading level0 col5\" >violation_street_name</th>\n",
       "      <th class=\"col_heading level0 col6\" >violation_zip_code</th>\n",
       "      <th class=\"col_heading level0 col7\" >mailing_address_str_number</th>\n",
       "      <th class=\"col_heading level0 col8\" >mailing_address_str_name</th>\n",
       "      <th class=\"col_heading level0 col9\" >city</th>\n",
       "      <th class=\"col_heading level0 col10\" >state</th>\n",
       "      <th class=\"col_heading level0 col11\" >zip_code</th>\n",
       "      <th class=\"col_heading level0 col12\" >non_us_str_code</th>\n",
       "      <th class=\"col_heading level0 col13\" >country</th>\n",
       "      <th class=\"col_heading level0 col14\" >ticket_issued_date</th>\n",
       "      <th class=\"col_heading level0 col15\" >hearing_date</th>\n",
       "      <th class=\"col_heading level0 col16\" >violation_code</th>\n",
       "      <th class=\"col_heading level0 col17\" >violation_description</th>\n",
       "      <th class=\"col_heading level0 col18\" >disposition</th>\n",
       "      <th class=\"col_heading level0 col19\" >fine_amount</th>\n",
       "      <th class=\"col_heading level0 col20\" >admin_fee</th>\n",
       "      <th class=\"col_heading level0 col21\" >state_fee</th>\n",
       "      <th class=\"col_heading level0 col22\" >late_fee</th>\n",
       "      <th class=\"col_heading level0 col23\" >discount_amount</th>\n",
       "      <th class=\"col_heading level0 col24\" >clean_up_cost</th>\n",
       "      <th class=\"col_heading level0 col25\" >judgment_amount</th>\n",
       "      <th class=\"col_heading level0 col26\" >grafitti_status</th>\n",
       "    </tr>\n",
       "  </thead>\n",
       "  <tbody>\n",
       "    <tr>\n",
       "      <td id=\"T_1007d_row0_col0\" class=\"data row0 col0\" >376496</td>\n",
       "      <td id=\"T_1007d_row0_col1\" class=\"data row0 col1\" >Buildings, Safety Engineering & Env Department</td>\n",
       "      <td id=\"T_1007d_row0_col2\" class=\"data row0 col2\" >Pierson, Kevin</td>\n",
       "      <td id=\"T_1007d_row0_col3\" class=\"data row0 col3\" >THE AIC GROUP</td>\n",
       "      <td id=\"T_1007d_row0_col4\" class=\"data row0 col4\" >12032.000</td>\n",
       "      <td id=\"T_1007d_row0_col5\" class=\"data row0 col5\" >SANTA ROSA</td>\n",
       "      <td id=\"T_1007d_row0_col6\" class=\"data row0 col6\" >48204</td>\n",
       "      <td id=\"T_1007d_row0_col7\" class=\"data row0 col7\" >P.O. BO</td>\n",
       "      <td id=\"T_1007d_row0_col8\" class=\"data row0 col8\" >969</td>\n",
       "      <td id=\"T_1007d_row0_col9\" class=\"data row0 col9\" >Southfield</td>\n",
       "      <td id=\"T_1007d_row0_col10\" class=\"data row0 col10\" >MI</td>\n",
       "      <td id=\"T_1007d_row0_col11\" class=\"data row0 col11\" >48037</td>\n",
       "      <td id=\"T_1007d_row0_col12\" class=\"data row0 col12\" >nan</td>\n",
       "      <td id=\"T_1007d_row0_col13\" class=\"data row0 col13\" >USA</td>\n",
       "      <td id=\"T_1007d_row0_col14\" class=\"data row0 col14\" >2016-12-29 09:30:00</td>\n",
       "      <td id=\"T_1007d_row0_col15\" class=\"data row0 col15\" >2017-01-23 10:30:00</td>\n",
       "      <td id=\"T_1007d_row0_col16\" class=\"data row0 col16\" >9-1-43(a) - (Structu</td>\n",
       "      <td id=\"T_1007d_row0_col17\" class=\"data row0 col17\" >Fail to comply with an Emergency or imminent danger order concerining an unsafe or unsanitary structure or unlawful occupancy (all other structures, except buildings with five (5) or more stories)</td>\n",
       "      <td id=\"T_1007d_row0_col18\" class=\"data row0 col18\" >Responsible by Default</td>\n",
       "      <td id=\"T_1007d_row0_col19\" class=\"data row0 col19\" >1000.000</td>\n",
       "      <td id=\"T_1007d_row0_col20\" class=\"data row0 col20\" >20.000</td>\n",
       "      <td id=\"T_1007d_row0_col21\" class=\"data row0 col21\" >10.000</td>\n",
       "      <td id=\"T_1007d_row0_col22\" class=\"data row0 col22\" >100.000</td>\n",
       "      <td id=\"T_1007d_row0_col23\" class=\"data row0 col23\" >0.000</td>\n",
       "      <td id=\"T_1007d_row0_col24\" class=\"data row0 col24\" >0.000</td>\n",
       "      <td id=\"T_1007d_row0_col25\" class=\"data row0 col25\" >1130.000</td>\n",
       "      <td id=\"T_1007d_row0_col26\" class=\"data row0 col26\" >nan</td>\n",
       "    </tr>\n",
       "    <tr>\n",
       "      <td id=\"T_1007d_row1_col0\" class=\"data row1 col0\" >376497</td>\n",
       "      <td id=\"T_1007d_row1_col1\" class=\"data row1 col1\" >Buildings, Safety Engineering & Env Department</td>\n",
       "      <td id=\"T_1007d_row1_col2\" class=\"data row1 col2\" >Pierson, Kevin</td>\n",
       "      <td id=\"T_1007d_row1_col3\" class=\"data row1 col3\" >THE AIC GROUP</td>\n",
       "      <td id=\"T_1007d_row1_col4\" class=\"data row1 col4\" >12032.000</td>\n",
       "      <td id=\"T_1007d_row1_col5\" class=\"data row1 col5\" >SANTA ROSA</td>\n",
       "      <td id=\"T_1007d_row1_col6\" class=\"data row1 col6\" >48204</td>\n",
       "      <td id=\"T_1007d_row1_col7\" class=\"data row1 col7\" >P.O. BO</td>\n",
       "      <td id=\"T_1007d_row1_col8\" class=\"data row1 col8\" >969</td>\n",
       "      <td id=\"T_1007d_row1_col9\" class=\"data row1 col9\" >Southfield</td>\n",
       "      <td id=\"T_1007d_row1_col10\" class=\"data row1 col10\" >MI</td>\n",
       "      <td id=\"T_1007d_row1_col11\" class=\"data row1 col11\" >48037</td>\n",
       "      <td id=\"T_1007d_row1_col12\" class=\"data row1 col12\" >nan</td>\n",
       "      <td id=\"T_1007d_row1_col13\" class=\"data row1 col13\" >USA</td>\n",
       "      <td id=\"T_1007d_row1_col14\" class=\"data row1 col14\" >2016-12-29 09:50:00</td>\n",
       "      <td id=\"T_1007d_row1_col15\" class=\"data row1 col15\" >2017-01-23 10:30:00</td>\n",
       "      <td id=\"T_1007d_row1_col16\" class=\"data row1 col16\" >9-1-43(a) - (Structu</td>\n",
       "      <td id=\"T_1007d_row1_col17\" class=\"data row1 col17\" >Fail to comply with an Emergency or imminent danger order concerining an unsafe or unsanitary structure or unlawful occupancy (all other structures, except buildings with five (5) or more stories)</td>\n",
       "      <td id=\"T_1007d_row1_col18\" class=\"data row1 col18\" >Responsible by Default</td>\n",
       "      <td id=\"T_1007d_row1_col19\" class=\"data row1 col19\" >1000.000</td>\n",
       "      <td id=\"T_1007d_row1_col20\" class=\"data row1 col20\" >20.000</td>\n",
       "      <td id=\"T_1007d_row1_col21\" class=\"data row1 col21\" >10.000</td>\n",
       "      <td id=\"T_1007d_row1_col22\" class=\"data row1 col22\" >100.000</td>\n",
       "      <td id=\"T_1007d_row1_col23\" class=\"data row1 col23\" >0.000</td>\n",
       "      <td id=\"T_1007d_row1_col24\" class=\"data row1 col24\" >0.000</td>\n",
       "      <td id=\"T_1007d_row1_col25\" class=\"data row1 col25\" >1130.000</td>\n",
       "      <td id=\"T_1007d_row1_col26\" class=\"data row1 col26\" >nan</td>\n",
       "    </tr>\n",
       "    <tr>\n",
       "      <td id=\"T_1007d_row2_col0\" class=\"data row2 col0\" >376499</td>\n",
       "      <td id=\"T_1007d_row2_col1\" class=\"data row2 col1\" >Detroit Police Department</td>\n",
       "      <td id=\"T_1007d_row2_col2\" class=\"data row2 col2\" >BOWLES, TIFFANI</td>\n",
       "      <td id=\"T_1007d_row2_col3\" class=\"data row2 col3\" >BARLOW, CHRISTOPHER D</td>\n",
       "      <td id=\"T_1007d_row2_col4\" class=\"data row2 col4\" >11832.000</td>\n",
       "      <td id=\"T_1007d_row2_col5\" class=\"data row2 col5\" >KILBOURNE</td>\n",
       "      <td id=\"T_1007d_row2_col6\" class=\"data row2 col6\" >48213</td>\n",
       "      <td id=\"T_1007d_row2_col7\" class=\"data row2 col7\" >11832</td>\n",
       "      <td id=\"T_1007d_row2_col8\" class=\"data row2 col8\" >KILBOURNE</td>\n",
       "      <td id=\"T_1007d_row2_col9\" class=\"data row2 col9\" >DETROIT</td>\n",
       "      <td id=\"T_1007d_row2_col10\" class=\"data row2 col10\" >MI</td>\n",
       "      <td id=\"T_1007d_row2_col11\" class=\"data row2 col11\" >48213</td>\n",
       "      <td id=\"T_1007d_row2_col12\" class=\"data row2 col12\" >nan</td>\n",
       "      <td id=\"T_1007d_row2_col13\" class=\"data row2 col13\" >USA</td>\n",
       "      <td id=\"T_1007d_row2_col14\" class=\"data row2 col14\" >2016-12-29 14:30:00</td>\n",
       "      <td id=\"T_1007d_row2_col15\" class=\"data row2 col15\" >2017-01-20 09:00:00</td>\n",
       "      <td id=\"T_1007d_row2_col16\" class=\"data row2 col16\" >22-2-45</td>\n",
       "      <td id=\"T_1007d_row2_col17\" class=\"data row2 col17\" >Violation of time limit for approved containers to remain at curbside - early or late</td>\n",
       "      <td id=\"T_1007d_row2_col18\" class=\"data row2 col18\" >Responsible by Default</td>\n",
       "      <td id=\"T_1007d_row2_col19\" class=\"data row2 col19\" >100.000</td>\n",
       "      <td id=\"T_1007d_row2_col20\" class=\"data row2 col20\" >20.000</td>\n",
       "      <td id=\"T_1007d_row2_col21\" class=\"data row2 col21\" >10.000</td>\n",
       "      <td id=\"T_1007d_row2_col22\" class=\"data row2 col22\" >10.000</td>\n",
       "      <td id=\"T_1007d_row2_col23\" class=\"data row2 col23\" >0.000</td>\n",
       "      <td id=\"T_1007d_row2_col24\" class=\"data row2 col24\" >0.000</td>\n",
       "      <td id=\"T_1007d_row2_col25\" class=\"data row2 col25\" >140.000</td>\n",
       "      <td id=\"T_1007d_row2_col26\" class=\"data row2 col26\" >nan</td>\n",
       "    </tr>\n",
       "    <tr>\n",
       "      <td id=\"T_1007d_row3_col0\" class=\"data row3 col0\" >376500</td>\n",
       "      <td id=\"T_1007d_row3_col1\" class=\"data row3 col1\" >Detroit Police Department</td>\n",
       "      <td id=\"T_1007d_row3_col2\" class=\"data row3 col2\" >BOWLES, TIFFANI</td>\n",
       "      <td id=\"T_1007d_row3_col3\" class=\"data row3 col3\" >WILLIAMS, JASON</td>\n",
       "      <td id=\"T_1007d_row3_col4\" class=\"data row3 col4\" >11848.000</td>\n",
       "      <td id=\"T_1007d_row3_col5\" class=\"data row3 col5\" >KILBOURNE</td>\n",
       "      <td id=\"T_1007d_row3_col6\" class=\"data row3 col6\" >48213</td>\n",
       "      <td id=\"T_1007d_row3_col7\" class=\"data row3 col7\" >4317</td>\n",
       "      <td id=\"T_1007d_row3_col8\" class=\"data row3 col8\" >YORKSHIRE</td>\n",
       "      <td id=\"T_1007d_row3_col9\" class=\"data row3 col9\" >DETROIT</td>\n",
       "      <td id=\"T_1007d_row3_col10\" class=\"data row3 col10\" >MI</td>\n",
       "      <td id=\"T_1007d_row3_col11\" class=\"data row3 col11\" >48224</td>\n",
       "      <td id=\"T_1007d_row3_col12\" class=\"data row3 col12\" >nan</td>\n",
       "      <td id=\"T_1007d_row3_col13\" class=\"data row3 col13\" >USA</td>\n",
       "      <td id=\"T_1007d_row3_col14\" class=\"data row3 col14\" >2016-12-29 15:00:00</td>\n",
       "      <td id=\"T_1007d_row3_col15\" class=\"data row3 col15\" >2017-01-20 09:00:00</td>\n",
       "      <td id=\"T_1007d_row3_col16\" class=\"data row3 col16\" >22-2-45</td>\n",
       "      <td id=\"T_1007d_row3_col17\" class=\"data row3 col17\" >Violation of time limit for approved containers to remain at curbside - early or late</td>\n",
       "      <td id=\"T_1007d_row3_col18\" class=\"data row3 col18\" >Responsible by Default</td>\n",
       "      <td id=\"T_1007d_row3_col19\" class=\"data row3 col19\" >100.000</td>\n",
       "      <td id=\"T_1007d_row3_col20\" class=\"data row3 col20\" >20.000</td>\n",
       "      <td id=\"T_1007d_row3_col21\" class=\"data row3 col21\" >10.000</td>\n",
       "      <td id=\"T_1007d_row3_col22\" class=\"data row3 col22\" >10.000</td>\n",
       "      <td id=\"T_1007d_row3_col23\" class=\"data row3 col23\" >0.000</td>\n",
       "      <td id=\"T_1007d_row3_col24\" class=\"data row3 col24\" >0.000</td>\n",
       "      <td id=\"T_1007d_row3_col25\" class=\"data row3 col25\" >140.000</td>\n",
       "      <td id=\"T_1007d_row3_col26\" class=\"data row3 col26\" >nan</td>\n",
       "    </tr>\n",
       "    <tr>\n",
       "      <td id=\"T_1007d_row4_col0\" class=\"data row4 col0\" >369851</td>\n",
       "      <td id=\"T_1007d_row4_col1\" class=\"data row4 col1\" >Department of Public Works</td>\n",
       "      <td id=\"T_1007d_row4_col2\" class=\"data row4 col2\" >Johnson, Valentina</td>\n",
       "      <td id=\"T_1007d_row4_col3\" class=\"data row4 col3\" >LEONARD , KENNETH AND JEAN</td>\n",
       "      <td id=\"T_1007d_row4_col4\" class=\"data row4 col4\" >6100.000</td>\n",
       "      <td id=\"T_1007d_row4_col5\" class=\"data row4 col5\" >IRONWOOD</td>\n",
       "      <td id=\"T_1007d_row4_col6\" class=\"data row4 col6\" >48210</td>\n",
       "      <td id=\"T_1007d_row4_col7\" class=\"data row4 col7\" >71</td>\n",
       "      <td id=\"T_1007d_row4_col8\" class=\"data row4 col8\" >TYLER</td>\n",
       "      <td id=\"T_1007d_row4_col9\" class=\"data row4 col9\" >DETROIT</td>\n",
       "      <td id=\"T_1007d_row4_col10\" class=\"data row4 col10\" >MI</td>\n",
       "      <td id=\"T_1007d_row4_col11\" class=\"data row4 col11\" >48203</td>\n",
       "      <td id=\"T_1007d_row4_col12\" class=\"data row4 col12\" >nan</td>\n",
       "      <td id=\"T_1007d_row4_col13\" class=\"data row4 col13\" >USA</td>\n",
       "      <td id=\"T_1007d_row4_col14\" class=\"data row4 col14\" >2016-08-31 11:05:00</td>\n",
       "      <td id=\"T_1007d_row4_col15\" class=\"data row4 col15\" >2016-10-04 13:30:00</td>\n",
       "      <td id=\"T_1007d_row4_col16\" class=\"data row4 col16\" >9-1-104</td>\n",
       "      <td id=\"T_1007d_row4_col17\" class=\"data row4 col17\" >Excessive weeds or plant growth one- or two-family dwelling or commercial Building</td>\n",
       "      <td id=\"T_1007d_row4_col18\" class=\"data row4 col18\" >Responsible by Default</td>\n",
       "      <td id=\"T_1007d_row4_col19\" class=\"data row4 col19\" >50.000</td>\n",
       "      <td id=\"T_1007d_row4_col20\" class=\"data row4 col20\" >20.000</td>\n",
       "      <td id=\"T_1007d_row4_col21\" class=\"data row4 col21\" >10.000</td>\n",
       "      <td id=\"T_1007d_row4_col22\" class=\"data row4 col22\" >0.000</td>\n",
       "      <td id=\"T_1007d_row4_col23\" class=\"data row4 col23\" >0.000</td>\n",
       "      <td id=\"T_1007d_row4_col24\" class=\"data row4 col24\" >0.000</td>\n",
       "      <td id=\"T_1007d_row4_col25\" class=\"data row4 col25\" >80.000</td>\n",
       "      <td id=\"T_1007d_row4_col26\" class=\"data row4 col26\" >nan</td>\n",
       "    </tr>\n",
       "  </tbody>\n",
       "</table>\n"
      ],
      "text/plain": [
       "<pandas.io.formats.style.Styler at 0x1106393f070>"
      ]
     },
     "execution_count": 8,
     "metadata": {},
     "output_type": "execute_result"
    }
   ],
   "source": [
    "test_df.tail().style.highlight_null('brown').hide_index()"
   ]
  },
  {
   "cell_type": "markdown",
   "metadata": {},
   "source": [
    "#### Basic information of the datasets:"
   ]
  },
  {
   "cell_type": "code",
   "execution_count": 9,
   "metadata": {},
   "outputs": [
    {
     "name": "stdout",
     "output_type": "stream",
     "text": [
      "Basic information of the TRAIN dataset:\n",
      "<class 'pandas.core.frame.DataFrame'>\n",
      "RangeIndex: 250306 entries, 0 to 250305\n",
      "Data columns (total 34 columns):\n",
      " #   Column                      Non-Null Count   Dtype  \n",
      "---  ------                      --------------   -----  \n",
      " 0   ticket_id                   250306 non-null  int64  \n",
      " 1   agency_name                 250306 non-null  object \n",
      " 2   inspector_name              250306 non-null  object \n",
      " 3   violator_name               250272 non-null  object \n",
      " 4   violation_street_number     250306 non-null  float64\n",
      " 5   violation_street_name       250306 non-null  object \n",
      " 6   violation_zip_code          0 non-null       float64\n",
      " 7   mailing_address_str_number  246704 non-null  float64\n",
      " 8   mailing_address_str_name    250302 non-null  object \n",
      " 9   city                        250306 non-null  object \n",
      " 10  state                       250213 non-null  object \n",
      " 11  zip_code                    250305 non-null  object \n",
      " 12  non_us_str_code             3 non-null       object \n",
      " 13  country                     250306 non-null  object \n",
      " 14  ticket_issued_date          250306 non-null  object \n",
      " 15  hearing_date                237815 non-null  object \n",
      " 16  violation_code              250306 non-null  object \n",
      " 17  violation_description       250306 non-null  object \n",
      " 18  disposition                 250306 non-null  object \n",
      " 19  fine_amount                 250305 non-null  float64\n",
      " 20  admin_fee                   250306 non-null  float64\n",
      " 21  state_fee                   250306 non-null  float64\n",
      " 22  late_fee                    250306 non-null  float64\n",
      " 23  discount_amount             250306 non-null  float64\n",
      " 24  clean_up_cost               250306 non-null  float64\n",
      " 25  judgment_amount             250306 non-null  float64\n",
      " 26  payment_amount              250306 non-null  float64\n",
      " 27  balance_due                 250306 non-null  float64\n",
      " 28  payment_date                41113 non-null   object \n",
      " 29  payment_status              250306 non-null  object \n",
      " 30  collection_status           36897 non-null   object \n",
      " 31  grafitti_status             1 non-null       object \n",
      " 32  compliance_detail           250306 non-null  object \n",
      " 33  compliance                  159880 non-null  float64\n",
      "dtypes: float64(13), int64(1), object(20)\n",
      "memory usage: 64.9+ MB\n",
      "None \n",
      "\n",
      "Basic information of the TEST dataset:\n",
      "<class 'pandas.core.frame.DataFrame'>\n",
      "RangeIndex: 61001 entries, 0 to 61000\n",
      "Data columns (total 27 columns):\n",
      " #   Column                      Non-Null Count  Dtype  \n",
      "---  ------                      --------------  -----  \n",
      " 0   ticket_id                   61001 non-null  int64  \n",
      " 1   agency_name                 61001 non-null  object \n",
      " 2   inspector_name              61001 non-null  object \n",
      " 3   violator_name               60973 non-null  object \n",
      " 4   violation_street_number     61001 non-null  float64\n",
      " 5   violation_street_name       61001 non-null  object \n",
      " 6   violation_zip_code          24024 non-null  object \n",
      " 7   mailing_address_str_number  59987 non-null  object \n",
      " 8   mailing_address_str_name    60998 non-null  object \n",
      " 9   city                        61000 non-null  object \n",
      " 10  state                       60670 non-null  object \n",
      " 11  zip_code                    60998 non-null  object \n",
      " 12  non_us_str_code             0 non-null      float64\n",
      " 13  country                     61001 non-null  object \n",
      " 14  ticket_issued_date          61001 non-null  object \n",
      " 15  hearing_date                58804 non-null  object \n",
      " 16  violation_code              61001 non-null  object \n",
      " 17  violation_description       61001 non-null  object \n",
      " 18  disposition                 61001 non-null  object \n",
      " 19  fine_amount                 61001 non-null  float64\n",
      " 20  admin_fee                   61001 non-null  float64\n",
      " 21  state_fee                   61001 non-null  float64\n",
      " 22  late_fee                    61001 non-null  float64\n",
      " 23  discount_amount             61001 non-null  float64\n",
      " 24  clean_up_cost               61001 non-null  float64\n",
      " 25  judgment_amount             61001 non-null  float64\n",
      " 26  grafitti_status             2221 non-null   object \n",
      "dtypes: float64(9), int64(1), object(17)\n",
      "memory usage: 12.6+ MB\n",
      "None\n"
     ]
    }
   ],
   "source": [
    "print('Basic information of the TRAIN dataset:')\n",
    "print(train_df.info(), '\\n')\n",
    "print('Basic information of the TEST dataset:')\n",
    "print(test_df.info())"
   ]
  },
  {
   "cell_type": "markdown",
   "metadata": {},
   "source": [
    "#### Statistical summary of the datasets:"
   ]
  },
  {
   "cell_type": "code",
   "execution_count": 10,
   "metadata": {},
   "outputs": [
    {
     "name": "stdout",
     "output_type": "stream",
     "text": [
      "Statistical summary of the TRAIN dataset:\n"
     ]
    },
    {
     "data": {
      "text/html": [
       "<div>\n",
       "<style scoped>\n",
       "    .dataframe tbody tr th:only-of-type {\n",
       "        vertical-align: middle;\n",
       "    }\n",
       "\n",
       "    .dataframe tbody tr th {\n",
       "        vertical-align: top;\n",
       "    }\n",
       "\n",
       "    .dataframe thead th {\n",
       "        text-align: right;\n",
       "    }\n",
       "</style>\n",
       "<table border=\"1\" class=\"dataframe\">\n",
       "  <thead>\n",
       "    <tr style=\"text-align: right;\">\n",
       "      <th></th>\n",
       "      <th>ticket_id</th>\n",
       "      <th>violation_street_number</th>\n",
       "      <th>violation_zip_code</th>\n",
       "      <th>mailing_address_str_number</th>\n",
       "      <th>fine_amount</th>\n",
       "      <th>admin_fee</th>\n",
       "      <th>state_fee</th>\n",
       "      <th>late_fee</th>\n",
       "      <th>discount_amount</th>\n",
       "      <th>clean_up_cost</th>\n",
       "      <th>judgment_amount</th>\n",
       "      <th>payment_amount</th>\n",
       "      <th>balance_due</th>\n",
       "      <th>compliance</th>\n",
       "    </tr>\n",
       "  </thead>\n",
       "  <tbody>\n",
       "    <tr>\n",
       "      <th>count</th>\n",
       "      <td>250306.000</td>\n",
       "      <td>2.503e+05</td>\n",
       "      <td>0.0</td>\n",
       "      <td>2.467e+05</td>\n",
       "      <td>250305.000</td>\n",
       "      <td>250306.000</td>\n",
       "      <td>250306.000</td>\n",
       "      <td>250306.000</td>\n",
       "      <td>250306.000</td>\n",
       "      <td>250306.0</td>\n",
       "      <td>250306.000</td>\n",
       "      <td>250306.000</td>\n",
       "      <td>250306.000</td>\n",
       "      <td>159880.000</td>\n",
       "    </tr>\n",
       "    <tr>\n",
       "      <th>mean</th>\n",
       "      <td>152665.543</td>\n",
       "      <td>1.065e+04</td>\n",
       "      <td>NaN</td>\n",
       "      <td>9.150e+03</td>\n",
       "      <td>374.423</td>\n",
       "      <td>12.775</td>\n",
       "      <td>6.387</td>\n",
       "      <td>21.495</td>\n",
       "      <td>0.125</td>\n",
       "      <td>0.0</td>\n",
       "      <td>268.685</td>\n",
       "      <td>48.899</td>\n",
       "      <td>222.449</td>\n",
       "      <td>0.073</td>\n",
       "    </tr>\n",
       "    <tr>\n",
       "      <th>std</th>\n",
       "      <td>77189.883</td>\n",
       "      <td>3.189e+04</td>\n",
       "      <td>NaN</td>\n",
       "      <td>3.602e+04</td>\n",
       "      <td>707.196</td>\n",
       "      <td>9.607</td>\n",
       "      <td>4.804</td>\n",
       "      <td>56.464</td>\n",
       "      <td>3.430</td>\n",
       "      <td>0.0</td>\n",
       "      <td>626.915</td>\n",
       "      <td>222.422</td>\n",
       "      <td>606.394</td>\n",
       "      <td>0.259</td>\n",
       "    </tr>\n",
       "    <tr>\n",
       "      <th>min</th>\n",
       "      <td>18645.000</td>\n",
       "      <td>0.000e+00</td>\n",
       "      <td>NaN</td>\n",
       "      <td>1.000e+00</td>\n",
       "      <td>0.000</td>\n",
       "      <td>0.000</td>\n",
       "      <td>0.000</td>\n",
       "      <td>0.000</td>\n",
       "      <td>0.000</td>\n",
       "      <td>0.0</td>\n",
       "      <td>0.000</td>\n",
       "      <td>0.000</td>\n",
       "      <td>-7750.000</td>\n",
       "      <td>0.000</td>\n",
       "    </tr>\n",
       "    <tr>\n",
       "      <th>25%</th>\n",
       "      <td>86549.250</td>\n",
       "      <td>4.739e+03</td>\n",
       "      <td>NaN</td>\n",
       "      <td>5.440e+02</td>\n",
       "      <td>200.000</td>\n",
       "      <td>0.000</td>\n",
       "      <td>0.000</td>\n",
       "      <td>0.000</td>\n",
       "      <td>0.000</td>\n",
       "      <td>0.0</td>\n",
       "      <td>0.000</td>\n",
       "      <td>0.000</td>\n",
       "      <td>0.000</td>\n",
       "      <td>0.000</td>\n",
       "    </tr>\n",
       "    <tr>\n",
       "      <th>50%</th>\n",
       "      <td>152597.500</td>\n",
       "      <td>1.024e+04</td>\n",
       "      <td>NaN</td>\n",
       "      <td>2.456e+03</td>\n",
       "      <td>250.000</td>\n",
       "      <td>20.000</td>\n",
       "      <td>10.000</td>\n",
       "      <td>10.000</td>\n",
       "      <td>0.000</td>\n",
       "      <td>0.0</td>\n",
       "      <td>140.000</td>\n",
       "      <td>0.000</td>\n",
       "      <td>25.000</td>\n",
       "      <td>0.000</td>\n",
       "    </tr>\n",
       "    <tr>\n",
       "      <th>75%</th>\n",
       "      <td>219888.750</td>\n",
       "      <td>1.576e+04</td>\n",
       "      <td>NaN</td>\n",
       "      <td>1.293e+04</td>\n",
       "      <td>250.000</td>\n",
       "      <td>20.000</td>\n",
       "      <td>10.000</td>\n",
       "      <td>25.000</td>\n",
       "      <td>0.000</td>\n",
       "      <td>0.0</td>\n",
       "      <td>305.000</td>\n",
       "      <td>0.000</td>\n",
       "      <td>305.000</td>\n",
       "      <td>0.000</td>\n",
       "    </tr>\n",
       "    <tr>\n",
       "      <th>max</th>\n",
       "      <td>366178.000</td>\n",
       "      <td>1.415e+07</td>\n",
       "      <td>NaN</td>\n",
       "      <td>5.111e+06</td>\n",
       "      <td>10000.000</td>\n",
       "      <td>20.000</td>\n",
       "      <td>10.000</td>\n",
       "      <td>1000.000</td>\n",
       "      <td>350.000</td>\n",
       "      <td>0.0</td>\n",
       "      <td>11030.000</td>\n",
       "      <td>11075.000</td>\n",
       "      <td>11030.000</td>\n",
       "      <td>1.000</td>\n",
       "    </tr>\n",
       "  </tbody>\n",
       "</table>\n",
       "</div>"
      ],
      "text/plain": [
       "        ticket_id  violation_street_number  violation_zip_code  \\\n",
       "count  250306.000                2.503e+05                 0.0   \n",
       "mean   152665.543                1.065e+04                 NaN   \n",
       "std     77189.883                3.189e+04                 NaN   \n",
       "min     18645.000                0.000e+00                 NaN   \n",
       "25%     86549.250                4.739e+03                 NaN   \n",
       "50%    152597.500                1.024e+04                 NaN   \n",
       "75%    219888.750                1.576e+04                 NaN   \n",
       "max    366178.000                1.415e+07                 NaN   \n",
       "\n",
       "       mailing_address_str_number  fine_amount   admin_fee   state_fee  \\\n",
       "count                   2.467e+05   250305.000  250306.000  250306.000   \n",
       "mean                    9.150e+03      374.423      12.775       6.387   \n",
       "std                     3.602e+04      707.196       9.607       4.804   \n",
       "min                     1.000e+00        0.000       0.000       0.000   \n",
       "25%                     5.440e+02      200.000       0.000       0.000   \n",
       "50%                     2.456e+03      250.000      20.000      10.000   \n",
       "75%                     1.293e+04      250.000      20.000      10.000   \n",
       "max                     5.111e+06    10000.000      20.000      10.000   \n",
       "\n",
       "         late_fee  discount_amount  clean_up_cost  judgment_amount  \\\n",
       "count  250306.000       250306.000       250306.0       250306.000   \n",
       "mean       21.495            0.125            0.0          268.685   \n",
       "std        56.464            3.430            0.0          626.915   \n",
       "min         0.000            0.000            0.0            0.000   \n",
       "25%         0.000            0.000            0.0            0.000   \n",
       "50%        10.000            0.000            0.0          140.000   \n",
       "75%        25.000            0.000            0.0          305.000   \n",
       "max      1000.000          350.000            0.0        11030.000   \n",
       "\n",
       "       payment_amount  balance_due  compliance  \n",
       "count      250306.000   250306.000  159880.000  \n",
       "mean           48.899      222.449       0.073  \n",
       "std           222.422      606.394       0.259  \n",
       "min             0.000    -7750.000       0.000  \n",
       "25%             0.000        0.000       0.000  \n",
       "50%             0.000       25.000       0.000  \n",
       "75%             0.000      305.000       0.000  \n",
       "max         11075.000    11030.000       1.000  "
      ]
     },
     "execution_count": 10,
     "metadata": {},
     "output_type": "execute_result"
    }
   ],
   "source": [
    "print('Statistical summary of the TRAIN dataset:')\n",
    "train_df.describe()"
   ]
  },
  {
   "cell_type": "code",
   "execution_count": 11,
   "metadata": {},
   "outputs": [
    {
     "name": "stdout",
     "output_type": "stream",
     "text": [
      "Statistical summary of the TEST dataset:\n"
     ]
    },
    {
     "data": {
      "text/html": [
       "<div>\n",
       "<style scoped>\n",
       "    .dataframe tbody tr th:only-of-type {\n",
       "        vertical-align: middle;\n",
       "    }\n",
       "\n",
       "    .dataframe tbody tr th {\n",
       "        vertical-align: top;\n",
       "    }\n",
       "\n",
       "    .dataframe thead th {\n",
       "        text-align: right;\n",
       "    }\n",
       "</style>\n",
       "<table border=\"1\" class=\"dataframe\">\n",
       "  <thead>\n",
       "    <tr style=\"text-align: right;\">\n",
       "      <th></th>\n",
       "      <th>ticket_id</th>\n",
       "      <th>violation_street_number</th>\n",
       "      <th>non_us_str_code</th>\n",
       "      <th>fine_amount</th>\n",
       "      <th>admin_fee</th>\n",
       "      <th>state_fee</th>\n",
       "      <th>late_fee</th>\n",
       "      <th>discount_amount</th>\n",
       "      <th>clean_up_cost</th>\n",
       "      <th>judgment_amount</th>\n",
       "    </tr>\n",
       "  </thead>\n",
       "  <tbody>\n",
       "    <tr>\n",
       "      <th>count</th>\n",
       "      <td>61001.000</td>\n",
       "      <td>6.100e+04</td>\n",
       "      <td>0.0</td>\n",
       "      <td>61001.000</td>\n",
       "      <td>61001.0</td>\n",
       "      <td>61001.0</td>\n",
       "      <td>61001.000</td>\n",
       "      <td>61001.000</td>\n",
       "      <td>61001.000</td>\n",
       "      <td>61001.000</td>\n",
       "    </tr>\n",
       "    <tr>\n",
       "      <th>mean</th>\n",
       "      <td>331724.533</td>\n",
       "      <td>1.257e+04</td>\n",
       "      <td>NaN</td>\n",
       "      <td>272.714</td>\n",
       "      <td>20.0</td>\n",
       "      <td>10.0</td>\n",
       "      <td>25.116</td>\n",
       "      <td>0.239</td>\n",
       "      <td>20.650</td>\n",
       "      <td>347.896</td>\n",
       "    </tr>\n",
       "    <tr>\n",
       "      <th>std</th>\n",
       "      <td>25434.932</td>\n",
       "      <td>1.414e+05</td>\n",
       "      <td>NaN</td>\n",
       "      <td>360.102</td>\n",
       "      <td>0.0</td>\n",
       "      <td>0.0</td>\n",
       "      <td>36.310</td>\n",
       "      <td>3.246</td>\n",
       "      <td>242.375</td>\n",
       "      <td>460.058</td>\n",
       "    </tr>\n",
       "    <tr>\n",
       "      <th>min</th>\n",
       "      <td>284932.000</td>\n",
       "      <td>-1.513e+04</td>\n",
       "      <td>NaN</td>\n",
       "      <td>0.000</td>\n",
       "      <td>20.0</td>\n",
       "      <td>10.0</td>\n",
       "      <td>0.000</td>\n",
       "      <td>0.000</td>\n",
       "      <td>0.000</td>\n",
       "      <td>0.000</td>\n",
       "    </tr>\n",
       "    <tr>\n",
       "      <th>25%</th>\n",
       "      <td>310111.000</td>\n",
       "      <td>6.008e+03</td>\n",
       "      <td>NaN</td>\n",
       "      <td>50.000</td>\n",
       "      <td>20.0</td>\n",
       "      <td>10.0</td>\n",
       "      <td>5.000</td>\n",
       "      <td>0.000</td>\n",
       "      <td>0.000</td>\n",
       "      <td>85.000</td>\n",
       "    </tr>\n",
       "    <tr>\n",
       "      <th>50%</th>\n",
       "      <td>332251.000</td>\n",
       "      <td>1.213e+04</td>\n",
       "      <td>NaN</td>\n",
       "      <td>200.000</td>\n",
       "      <td>20.0</td>\n",
       "      <td>10.0</td>\n",
       "      <td>10.000</td>\n",
       "      <td>0.000</td>\n",
       "      <td>0.000</td>\n",
       "      <td>250.000</td>\n",
       "    </tr>\n",
       "    <tr>\n",
       "      <th>75%</th>\n",
       "      <td>353031.000</td>\n",
       "      <td>1.716e+04</td>\n",
       "      <td>NaN</td>\n",
       "      <td>250.000</td>\n",
       "      <td>20.0</td>\n",
       "      <td>10.0</td>\n",
       "      <td>25.000</td>\n",
       "      <td>0.000</td>\n",
       "      <td>0.000</td>\n",
       "      <td>305.000</td>\n",
       "    </tr>\n",
       "    <tr>\n",
       "      <th>max</th>\n",
       "      <td>376698.000</td>\n",
       "      <td>2.011e+07</td>\n",
       "      <td>NaN</td>\n",
       "      <td>10000.000</td>\n",
       "      <td>20.0</td>\n",
       "      <td>10.0</td>\n",
       "      <td>1000.000</td>\n",
       "      <td>250.000</td>\n",
       "      <td>15309.000</td>\n",
       "      <td>15558.800</td>\n",
       "    </tr>\n",
       "  </tbody>\n",
       "</table>\n",
       "</div>"
      ],
      "text/plain": [
       "        ticket_id  violation_street_number  non_us_str_code  fine_amount  \\\n",
       "count   61001.000                6.100e+04              0.0    61001.000   \n",
       "mean   331724.533                1.257e+04              NaN      272.714   \n",
       "std     25434.932                1.414e+05              NaN      360.102   \n",
       "min    284932.000               -1.513e+04              NaN        0.000   \n",
       "25%    310111.000                6.008e+03              NaN       50.000   \n",
       "50%    332251.000                1.213e+04              NaN      200.000   \n",
       "75%    353031.000                1.716e+04              NaN      250.000   \n",
       "max    376698.000                2.011e+07              NaN    10000.000   \n",
       "\n",
       "       admin_fee  state_fee   late_fee  discount_amount  clean_up_cost  \\\n",
       "count    61001.0    61001.0  61001.000        61001.000      61001.000   \n",
       "mean        20.0       10.0     25.116            0.239         20.650   \n",
       "std          0.0        0.0     36.310            3.246        242.375   \n",
       "min         20.0       10.0      0.000            0.000          0.000   \n",
       "25%         20.0       10.0      5.000            0.000          0.000   \n",
       "50%         20.0       10.0     10.000            0.000          0.000   \n",
       "75%         20.0       10.0     25.000            0.000          0.000   \n",
       "max         20.0       10.0   1000.000          250.000      15309.000   \n",
       "\n",
       "       judgment_amount  \n",
       "count        61001.000  \n",
       "mean           347.896  \n",
       "std            460.058  \n",
       "min              0.000  \n",
       "25%             85.000  \n",
       "50%            250.000  \n",
       "75%            305.000  \n",
       "max          15558.800  "
      ]
     },
     "execution_count": 11,
     "metadata": {},
     "output_type": "execute_result"
    }
   ],
   "source": [
    "print('Statistical summary of the TEST dataset:')\n",
    "test_df.describe()"
   ]
  },
  {
   "cell_type": "markdown",
   "metadata": {},
   "source": [
    "#### Class ditribution of the dataset:"
   ]
  },
  {
   "cell_type": "code",
   "execution_count": 12,
   "metadata": {},
   "outputs": [
    {
     "data": {
      "text/plain": [
       "compliance\n",
       "0.0    148283\n",
       "1.0     11597\n",
       "dtype: int64"
      ]
     },
     "execution_count": 12,
     "metadata": {},
     "output_type": "execute_result"
    }
   ],
   "source": [
    "train_df.groupby('compliance').size()"
   ]
  },
  {
   "cell_type": "markdown",
   "metadata": {},
   "source": [
    "#### Explore NA / NULL values in the datasets:"
   ]
  },
  {
   "cell_type": "code",
   "execution_count": 13,
   "metadata": {},
   "outputs": [
    {
     "name": "stdout",
     "output_type": "stream",
     "text": [
      "NA/NULL values in TRAIN dataset:\n",
      "                            NULL count  NULL Percentage\n",
      "ticket_id                            0             0.00\n",
      "agency_name                          0             0.00\n",
      "inspector_name                       0             0.00\n",
      "violator_name                       34             0.01\n",
      "violation_street_number              0             0.00\n",
      "violation_street_name                0             0.00\n",
      "violation_zip_code              250306           100.00\n",
      "mailing_address_str_number        3602             1.44\n",
      "mailing_address_str_name             4             0.00\n",
      "city                                 0             0.00\n",
      "state                               93             0.04\n",
      "zip_code                             1             0.00\n",
      "non_us_str_code                 250303           100.00\n",
      "country                              0             0.00\n",
      "ticket_issued_date                   0             0.00\n",
      "hearing_date                     12491             4.99\n",
      "violation_code                       0             0.00\n",
      "violation_description                0             0.00\n",
      "disposition                          0             0.00\n",
      "fine_amount                          1             0.00\n",
      "admin_fee                            0             0.00\n",
      "state_fee                            0             0.00\n",
      "late_fee                             0             0.00\n",
      "discount_amount                      0             0.00\n",
      "clean_up_cost                        0             0.00\n",
      "judgment_amount                      0             0.00\n",
      "payment_amount                       0             0.00\n",
      "balance_due                          0             0.00\n",
      "payment_date                    209193            83.57\n",
      "payment_status                       0             0.00\n",
      "collection_status               213409            85.26\n",
      "grafitti_status                 250305           100.00\n",
      "compliance_detail                    0             0.00\n",
      "compliance                       90426            36.13\n",
      "\n",
      " \n",
      " NA/NULL values in TEST dataset:\n",
      "                            NULL count  NULL Percentage\n",
      "ticket_id                            0             0.00\n",
      "agency_name                          0             0.00\n",
      "inspector_name                       0             0.00\n",
      "violator_name                       28             0.05\n",
      "violation_street_number              0             0.00\n",
      "violation_street_name                0             0.00\n",
      "violation_zip_code               36977            60.62\n",
      "mailing_address_str_number        1014             1.66\n",
      "mailing_address_str_name             3             0.00\n",
      "city                                 1             0.00\n",
      "state                              331             0.54\n",
      "zip_code                             3             0.00\n",
      "non_us_str_code                  61001           100.00\n",
      "country                              0             0.00\n",
      "ticket_issued_date                   0             0.00\n",
      "hearing_date                      2197             3.60\n",
      "violation_code                       0             0.00\n",
      "violation_description                0             0.00\n",
      "disposition                          0             0.00\n",
      "fine_amount                          0             0.00\n",
      "admin_fee                            0             0.00\n",
      "state_fee                            0             0.00\n",
      "late_fee                             0             0.00\n",
      "discount_amount                      0             0.00\n",
      "clean_up_cost                        0             0.00\n",
      "judgment_amount                      0             0.00\n",
      "grafitti_status                  58780            96.36\n"
     ]
    }
   ],
   "source": [
    "# NA / NULL values in the TRAIN dataset\n",
    "null_values     = pd.DataFrame(data=train_df.isnull().sum(), columns=['NULL count'])\n",
    "null_values_per = pd.DataFrame(round(train_df.isnull().sum() / len(train_df) * 100, 2), columns=['NULL Percentage'])\n",
    "null_values_df  = pd.concat([null_values, null_values_per], axis=1)\n",
    "print('NA/NULL values in TRAIN dataset:')\n",
    "print(null_values_df)\n",
    "\n",
    "# NA / NULL values in the TEST dataset\n",
    "null_values     = pd.DataFrame(data=test_df.isnull().sum(), columns=['NULL count'])\n",
    "null_values_per = pd.DataFrame(round(test_df.isnull().sum() / len(test_df) * 100, 2), columns=['NULL Percentage'])\n",
    "null_values_df  = pd.concat([null_values, null_values_per], axis=1)\n",
    "print('\\n \\n NA/NULL values in TEST dataset:')\n",
    "print(null_values_df)"
   ]
  },
  {
   "cell_type": "markdown",
   "metadata": {},
   "source": [
    "#### Explore duplicates in the dataset:"
   ]
  },
  {
   "cell_type": "code",
   "execution_count": 14,
   "metadata": {},
   "outputs": [
    {
     "name": "stdout",
     "output_type": "stream",
     "text": [
      "Number of duplicates found in TRAIN dataset:  0\n",
      "Number of duplicates found in TEST dataset:   0\n"
     ]
    }
   ],
   "source": [
    "dup_df = train_df.drop_duplicates()\n",
    "print('Number of duplicates found in TRAIN dataset: ', (len(train_df) - len(dup_df)))\n",
    "dup_df = test_df.drop_duplicates()\n",
    "print('Number of duplicates found in TEST dataset:  ', (len(test_df) - len(dup_df)))"
   ]
  },
  {
   "cell_type": "markdown",
   "metadata": {},
   "source": [
    "### 2.4.2. `Visual EDA`: Understand the data with Visualizations"
   ]
  },
  {
   "cell_type": "markdown",
   "metadata": {},
   "source": [
    "#### 2.4.2.1. Draw Univariate plots to better understand each attribute"
   ]
  },
  {
   "cell_type": "code",
   "execution_count": 15,
   "metadata": {},
   "outputs": [
    {
     "data": {
      "image/png": "[encoded data removed]",
      "text/plain": [
       "<Figure size 864x432 with 1 Axes>"
      ]
     },
     "metadata": {},
     "output_type": "display_data"
    },
    {
     "data": {
      "image/png": "[encoded data removed]",
      "text/plain": [
       "<Figure size 864x432 with 1 Axes>"
      ]
     },
     "metadata": {},
     "output_type": "display_data"
    }
   ],
   "source": [
    "plot_histogram(train_df.judgment_amount, 'TRAIN', 100, (0, 4000))\n",
    "plot_histogram(test_df.judgment_amount, 'TEST', 100, (0, 4000))"
   ]
  },
  {
   "cell_type": "markdown",
   "metadata": {},
   "source": [
    "#### 2.4.2.1. Draw Multivariate plots to better understand the relationship between attributes"
   ]
  },
  {
   "cell_type": "markdown",
   "metadata": {},
   "source": [
    "`Scatter plot matrix / Correlation maps` are not required as we are going to deal with only one featrue `judgment_amount`."
   ]
  },
  {
   "cell_type": "markdown",
   "metadata": {},
   "source": [
    "# 3. Research"
   ]
  },
  {
   "cell_type": "markdown",
   "metadata": {},
   "source": [
    "## 3.1. List of selected algorithms to build models"
   ]
  },
  {
   "cell_type": "markdown",
   "metadata": {},
   "source": [
    "The following are the algorithms covering a variety of classification strategies and techniques that have been selected for the project. All models will be developed with default parameters and trained. Only a few best will be selected for algorithm tuning based on their performances (evaluation metrics). Then, each of those models will be individually tuned to minimize error. The final model will be selected based on their evaluation metrics on training and test datasets. "
   ]
  },
  {
   "cell_type": "markdown",
   "metadata": {},
   "source": [
    "#### Classification algorithms:\n",
    "```\n",
    " 1) Logistic Regression (LR)         LogisticRegression()            - Simple Linear\n",
    " 2) K-Nearest Neighbors (KNN)        KNeighborsClassifier()          - Nonlinear\n",
    " 3) Gaussian Naive Bayes (NB)        GaussianNB()                    - Nonlinear\n",
    " 4) Neural Network (NN)              MLPClassifier()                 - Nonlinear\n",
    " 5) Decision Trees (DT)              DecisionTreeClassifier()        - Nonlinear\n",
    " 6) Random Forest Trees (RF)         RandomForestClassifier()        - Ensemble Bagging\n",
    " 7) Gradient Boosting (GB)           GradientBoostingClassifier()    - Ensemble Boosting   \n",
    " 8) Extreme Boosting (XGB)           XGBClassifier()                 - Ensemble Boosting\n",
    "```"
   ]
  },
  {
   "cell_type": "markdown",
   "metadata": {},
   "source": [
    "## 3.2. List of model evaluation metrics"
   ]
  },
  {
   "cell_type": "markdown",
   "metadata": {},
   "source": [
    "#### Classification model evaluation metrics:\n",
    "The following metrics have been selected as the `evaluation metrics` for training, refining and evaluating the models.\n",
    "```\n",
    "1) Area Under the ROC curve (AUC)\n",
    "```\n",
    "\n",
    "Build the above mentioned models, with default parameters, and select the best one based on their `test` scores."
   ]
  },
  {
   "cell_type": "markdown",
   "metadata": {},
   "source": [
    "#### Additional Note:\n",
    "* Use the `judgment_amount` column as the only `Feature` to train the models.\n",
    "* Use the `compliance` column as the `Target / Predictor` variable.\n",
    "* Model selection should be based on the AUC score over 0.75 at least.\n",
    "* Print out the results to see whether there is anything weird (e.g., all probabilities are the same).\n",
    "* Generally the total runtime should be less than 10 mins. \n",
    "* Do NOT use SVM classifiers (SVC) and SGDClassifier as probabilities are not available for them. "
   ]
  },
  {
   "cell_type": "markdown",
   "metadata": {},
   "source": [
    "# 4. Data Preprocessing"
   ]
  },
  {
   "cell_type": "markdown",
   "metadata": {},
   "source": [
    "## 4.1. Data Cleaning"
   ]
  },
  {
   "cell_type": "markdown",
   "metadata": {},
   "source": [
    "### 4.1.1. Basic data cleaning"
   ]
  },
  {
   "cell_type": "markdown",
   "metadata": {},
   "source": [
    "#### Remove the duplicate features/columns"
   ]
  },
  {
   "cell_type": "markdown",
   "metadata": {},
   "source": [
    "*No duplicate features/columns in TRAIN/TEST datasets.*"
   ]
  },
  {
   "cell_type": "markdown",
   "metadata": {},
   "source": [
    "#### Remove the duplicate samples/rows"
   ]
  },
  {
   "cell_type": "markdown",
   "metadata": {},
   "source": [
    "*No duplicate samples/rows in TRAIN/TEST datasets.*"
   ]
  },
  {
   "cell_type": "markdown",
   "metadata": {},
   "source": [
    "#### Remove embedded characters that may cause data misalignment"
   ]
  },
  {
   "cell_type": "markdown",
   "metadata": {},
   "source": [
    "*No embedded characters in `judgment_amount` feature of TRAIN/TEST datasets.*"
   ]
  },
  {
   "cell_type": "markdown",
   "metadata": {},
   "source": [
    "#### Handling inconsistent data"
   ]
  },
  {
   "cell_type": "markdown",
   "metadata": {},
   "source": [
    "*No inconsistent data in `judgement_amount` feature. of TRAIN/TEST datasets.*"
   ]
  },
  {
   "cell_type": "markdown",
   "metadata": {},
   "source": [
    "## 4.2. Feature Selection"
   ]
  },
  {
   "cell_type": "markdown",
   "metadata": {},
   "source": [
    "* Use the `judgment_amount` column as the only `Feature` to train the models.\n",
    "* Use the `compliance` column as the `Target / Predictor` variable."
   ]
  },
  {
   "cell_type": "markdown",
   "metadata": {},
   "source": [
    "## 4.3. Feature Engineering"
   ]
  },
  {
   "cell_type": "markdown",
   "metadata": {},
   "source": [
    "*Not required.*"
   ]
  },
  {
   "cell_type": "markdown",
   "metadata": {},
   "source": [
    "## 4.4. Dimensionality Reduction"
   ]
  },
  {
   "cell_type": "markdown",
   "metadata": {},
   "source": [
    "*Not required.*"
   ]
  },
  {
   "cell_type": "markdown",
   "metadata": {},
   "source": [
    "## 4.5. Split datasets for train-test"
   ]
  },
  {
   "cell_type": "markdown",
   "metadata": {},
   "source": [
    "#### Keep only one dataframe (df) and delete the rest and release memory for ML processing"
   ]
  },
  {
   "cell_type": "code",
   "execution_count": 16,
   "metadata": {},
   "outputs": [],
   "source": [
    "del null_values, null_values_per, null_values_df, dup_df"
   ]
  },
  {
   "cell_type": "markdown",
   "metadata": {},
   "source": [
    "### 4.5.1. Create Independent(X) and Dependent(y) variables"
   ]
  },
  {
   "cell_type": "code",
   "execution_count": 17,
   "metadata": {},
   "outputs": [],
   "source": [
    "# Set 'ticket_id' as the index in the TEST dataset\n",
    "test_df.reset_index(inplace=True)\n",
    "test_df.set_index('ticket_id', inplace=True)\n",
    "\n",
    "# Remove all the non-violators from the TRAIN dataset, i.e., compliance = Null\n",
    "train_df = train_df[pd.notnull(train_df.compliance)]\n",
    "\n",
    "# Select the 'features' and the 'target' variable from the TRAIN dataset\n",
    "feature = ['judgment_amount']\n",
    "target  = ['compliance']\n",
    "\n",
    "X = train_df[feature]              # Independent variable\n",
    "y = train_df[target]               # Dependent variable"
   ]
  },
  {
   "cell_type": "markdown",
   "metadata": {},
   "source": [
    "### 4.5.2. Split the dataset into *`train`* and *`test`*"
   ]
  },
  {
   "cell_type": "code",
   "execution_count": 18,
   "metadata": {},
   "outputs": [
    {
     "name": "stdout",
     "output_type": "stream",
     "text": [
      "X_train:  (127904, 1)\n",
      "y_train:  (127904, 1)\n",
      "X_test:   (31976, 1)\n",
      "y_test:   (31976, 1)\n",
      "X:        (159880, 1)\n",
      "y:        (159880, 1)\n",
      "train_df: (159880, 34)\n",
      "test_df:  (61001, 27)\n"
     ]
    }
   ],
   "source": [
    "X_train, X_test, y_train, y_test = train_test_split(X, y, test_size=0.2, random_state=1)\n",
    "\n",
    "print('X_train: ', X_train.shape)\n",
    "print('y_train: ', y_train.shape)\n",
    "print('X_test:  ', X_test.shape)\n",
    "print('y_test:  ', y_test.shape)\n",
    "print('X:       ', X.shape)\n",
    "print('y:       ', y.shape)\n",
    "print('train_df:', train_df.shape)\n",
    "print('test_df: ', test_df.shape)"
   ]
  },
  {
   "cell_type": "markdown",
   "metadata": {},
   "source": [
    "## 4.6. Handling Imbalanced classes"
   ]
  },
  {
   "cell_type": "code",
   "execution_count": 19,
   "metadata": {},
   "outputs": [
    {
     "data": {
      "text/plain": [
       "compliance\n",
       "0.0    148283\n",
       "1.0     11597\n",
       "dtype: int64"
      ]
     },
     "execution_count": 19,
     "metadata": {},
     "output_type": "execute_result"
    }
   ],
   "source": [
    "train_df.groupby('compliance').size()"
   ]
  },
  {
   "cell_type": "markdown",
   "metadata": {},
   "source": [
    "#### Resample datasets using SMOTE and make the samples balanced for better learning"
   ]
  },
  {
   "cell_type": "code",
   "execution_count": 20,
   "metadata": {},
   "outputs": [
    {
     "name": "stdout",
     "output_type": "stream",
     "text": [
      "(237234, 1)\n",
      "(237234, 1)\n",
      "(296566, 1)\n",
      "(296566, 1)\n"
     ]
    }
   ],
   "source": [
    "X_train_smote, y_train_smote = SMOTE().fit_resample(X_train, y_train)\n",
    "X_smote, y_smote             = SMOTE().fit_resample(X, y)\n",
    "\n",
    "print(X_train_smote.shape)\n",
    "print(y_train_smote.shape)\n",
    "print(X_smote.shape)\n",
    "print(y_smote.shape)"
   ]
  },
  {
   "cell_type": "markdown",
   "metadata": {},
   "source": [
    "# 5. Model Development"
   ]
  },
  {
   "cell_type": "markdown",
   "metadata": {},
   "source": [
    "## 5.1. Model definitions"
   ]
  },
  {
   "cell_type": "code",
   "execution_count": 21,
   "metadata": {},
   "outputs": [],
   "source": [
    "models = []\n",
    "models.append(('LR', LogisticRegression()))\n",
    "models.append(('KNN', KNeighborsClassifier()))\n",
    "models.append(('NB', GaussianNB()))\n",
    "models.append(('NN', MLPClassifier()))\n",
    "models.append(('DT', DecisionTreeClassifier()))\n",
    "models.append(('RF', RandomForestClassifier()))\n",
    "models.append(('GB', GradientBoostingClassifier()))\n",
    "models.append(('XGB', XGBClassifier()))"
   ]
  },
  {
   "cell_type": "markdown",
   "metadata": {},
   "source": [
    "# 6. Model Training"
   ]
  },
  {
   "cell_type": "code",
   "execution_count": 22,
   "metadata": {},
   "outputs": [],
   "source": [
    "modelnames     = []\n",
    "scores_trng    = [] \n",
    "trained_models = []\n",
    "\n",
    "for name, model in models:\n",
    "    modelnames.append(name)\n",
    "    trained_models.append(model.fit(X_train_smote, np.array(y_train_smote).ravel()))\n",
    "    prob = model.predict_proba(y_train_smote)[:, 1]\n",
    "    scores_trng.append(roc_auc_score(y_train_smote, prob))"
   ]
  },
  {
   "cell_type": "code",
   "execution_count": 23,
   "metadata": {},
   "outputs": [
    {
     "name": "stdout",
     "output_type": "stream",
     "text": [
      "The probabilities predicted by various models on TRAIN dataset are:\n",
      " LR :   0.00 %\n",
      "KNN :  50.00 %\n",
      " NB : 100.00 %\n",
      " NN :   0.00 %\n",
      " DT :  50.00 %\n",
      " RF :  50.00 %\n",
      " GB :  50.00 %\n",
      "XGB :  50.00 %\n"
     ]
    }
   ],
   "source": [
    "print('The probabilities predicted by various models on TRAIN dataset are:')\n",
    "for i in range(len(modelnames)):\n",
    "    print('%3s : %6.2f %%' % (modelnames[i], scores_trng[i] * 100))"
   ]
  },
  {
   "cell_type": "markdown",
   "metadata": {},
   "source": [
    "# 7. Model Refinement"
   ]
  },
  {
   "cell_type": "markdown",
   "metadata": {},
   "source": [
    "None."
   ]
  },
  {
   "cell_type": "markdown",
   "metadata": {},
   "source": [
    "# 8. Model Evaluation"
   ]
  },
  {
   "cell_type": "code",
   "execution_count": 24,
   "metadata": {},
   "outputs": [],
   "source": [
    "scores_eval = []\n",
    "\n",
    "for model in trained_models:\n",
    "    prob = model.predict_proba(y_test)[:, 1]\n",
    "    scores_eval.append(roc_auc_score(y_test, prob))"
   ]
  },
  {
   "cell_type": "code",
   "execution_count": 25,
   "metadata": {},
   "outputs": [
    {
     "name": "stdout",
     "output_type": "stream",
     "text": [
      "The probabilities predicted by various models on TEST dataset are:\n",
      "      LR :   0.00 %\n",
      "     KNN :  50.00 %\n",
      "      NB : 100.00 %\n",
      "      NN :   0.00 %\n",
      "      DT :  50.00 %\n",
      "      RF :  50.00 %\n",
      "      GB :  50.00 %\n",
      "     XGB :  50.00 %\n"
     ]
    }
   ],
   "source": [
    "print('The probabilities predicted by various models on TEST dataset are:')\n",
    "for i in range(len(modelnames)):\n",
    "    print('%8s : %6.2f %%' % (modelnames[i], scores_eval[i] * 100))"
   ]
  },
  {
   "cell_type": "markdown",
   "metadata": {},
   "source": [
    "# 9. Final Model Selection"
   ]
  },
  {
   "cell_type": "code",
   "execution_count": 26,
   "metadata": {},
   "outputs": [
    {
     "data": {
      "image/png": "[encoded data removed]",
      "text/plain": [
       "<Figure size 864x360 with 2 Axes>"
      ]
     },
     "metadata": {},
     "output_type": "display_data"
    }
   ],
   "source": [
    "scores_list  = [scores_trng, scores_eval]\n",
    "scores_names = ['Train Scores (ROC-AUC)', 'Test Scores (ROC-AUC)']\n",
    "colors       = ['plum', 'lightsalmon']\n",
    "\n",
    "plot_performance_metrics(scores_list, scores_names, colors, modelnames)"
   ]
  },
  {
   "cell_type": "markdown",
   "metadata": {},
   "source": [
    "The `Evaluation metrics (ROC-AUC scores)` generated above suggest that the **`Gaussian Naive Bayes (NB)`** is the best model and it is selected as the **`final model`**. NB will be trained on the entire dataset, saved, and deployed into the test infrastructure for business user's testing (i.e., Model Validation)."
   ]
  },
  {
   "cell_type": "code",
   "execution_count": 27,
   "metadata": {},
   "outputs": [],
   "source": [
    "# Train the final model on the entire dataset and save it to the disk\n",
    "FinalModel = GaussianNB().fit(X_smote, np.array(y_smote).ravel())\n",
    "ModelName = 'MLPy-DemoProj-4.sav'\n",
    "pickle.dump(FinalModel, open(ModelName, 'wb'))"
   ]
  },
  {
   "cell_type": "markdown",
   "metadata": {},
   "source": [
    "# 10. Model Validation"
   ]
  },
  {
   "cell_type": "code",
   "execution_count": 28,
   "metadata": {},
   "outputs": [
    {
     "name": "stdout",
     "output_type": "stream",
     "text": [
      "Total number of unique probabilities calculated for test tickets are:  503\n"
     ]
    }
   ],
   "source": [
    "y_test  = test_df[feature]\n",
    "\n",
    "probs = FinalModel.predict_proba(y_test)[:,1]\n",
    "\n",
    "test_df['probability'] = probs\n",
    "\n",
    "# Check if anything is wierd, i.e., the calculated probabilities are not the same for all tickets\n",
    "print('Total number of unique probabilities calculated for test tickets are: ', (np.unique(probs).size))\n",
    "\n",
    "# Write the output to a output file (csv) for verification\n",
    "filename = 'CoD_blight_tickets_compliance_probability-Out.csv'\n",
    "output   = test_df['probability'].reset_index()\n",
    "output.to_csv(filename, index=True)"
   ]
  },
  {
   "cell_type": "markdown",
   "metadata": {},
   "source": [
    "# 11. Model Deployment"
   ]
  },
  {
   "cell_type": "markdown",
   "metadata": {},
   "source": [
    "The model deployment is usually done by the DS team along with the ML team upon receipt of stakeholders sign-off."
   ]
  }
 ],
 "metadata": {
  "kernelspec": {
   "display_name": "Python 3",
   "language": "python",
   "name": "python3"
  },
  "language_info": {
   "codemirror_mode": {
    "name": "ipython",
    "version": 3
   },
   "file_extension": ".py",
   "mimetype": "text/x-python",
   "name": "python",
   "nbconvert_exporter": "python",
   "pygments_lexer": "ipython3",
   "version": "3.8.8"
  }
 },
 "nbformat": 4,
 "nbformat_minor": 4
}
